{
 "cells": [
  {
   "cell_type": "code",
   "execution_count": 1,
   "metadata": {},
   "outputs": [
    {
     "name": "stderr",
     "output_type": "stream",
     "text": [
      "2025-02-18 22:41:33.443756: E external/local_xla/xla/stream_executor/cuda/cuda_fft.cc:477] Unable to register cuFFT factory: Attempting to register factory for plugin cuFFT when one has already been registered\n",
      "WARNING: All log messages before absl::InitializeLog() is called are written to STDERR\n",
      "E0000 00:00:1739907693.542106   78594 cuda_dnn.cc:8310] Unable to register cuDNN factory: Attempting to register factory for plugin cuDNN when one has already been registered\n",
      "E0000 00:00:1739907693.567848   78594 cuda_blas.cc:1418] Unable to register cuBLAS factory: Attempting to register factory for plugin cuBLAS when one has already been registered\n",
      "2025-02-18 22:41:33.834600: I tensorflow/core/platform/cpu_feature_guard.cc:210] This TensorFlow binary is optimized to use available CPU instructions in performance-critical operations.\n",
      "To enable the following instructions: AVX2 FMA, in other operations, rebuild TensorFlow with the appropriate compiler flags.\n"
     ]
    }
   ],
   "source": [
    "import tensorflow as tf\n",
    "from tensorflow.keras.layers import (\n",
    "    Input, Dense, Dropout, LayerNormalization, MultiHeadAttention, GlobalAveragePooling1D\n",
    ")\n",
    "from tensorflow.keras.models import Model\n",
    "import numpy as np\n"
   ]
  },
  {
   "cell_type": "code",
   "execution_count": 2,
   "metadata": {},
   "outputs": [],
   "source": [
    "# Custom Positional Encoding Layer\n",
    "class PositionalEncoding(tf.keras.layers.Layer):\n",
    "    def __init__(self, **kwargs):\n",
    "        super(PositionalEncoding, self).__init__(**kwargs)\n",
    "\n",
    "    def call(self, inputs):\n",
    "        \"\"\"\n",
    "        inputs: Tensor of shape (batch_size, seq_len, d_model)\n",
    "        returns: inputs + positional encodings\n",
    "        \"\"\"\n",
    "        seq_len = tf.shape(inputs)[1]\n",
    "        d_model = tf.shape(inputs)[2]\n",
    "        # Compute the positional encodings\n",
    "        positions = tf.cast(tf.range(seq_len)[:, tf.newaxis], tf.float32)  # (seq_len, 1)\n",
    "        dims = tf.cast(tf.range(d_model)[tf.newaxis, :], tf.float32)       # (1, d_model)\n",
    "        angle_rates = 1 / tf.pow(10000.0, (2 * (dims // 2)) / tf.cast(d_model, tf.float32))\n",
    "        angle_rads = positions * angle_rates  # (seq_len, d_model)\n",
    "\n",
    "        # Apply sin to even indices and cos to odd indices\n",
    "        sines = tf.math.sin(angle_rads[:, 0::2])\n",
    "        cosines = tf.math.cos(angle_rads[:, 1::2])\n",
    "        pos_encoding = tf.concat([sines, cosines], axis=-1)\n",
    "        pos_encoding = tf.expand_dims(pos_encoding, 0)  # (1, seq_len, d_model)\n",
    "        \n",
    "        return inputs + pos_encoding\n",
    "\n",
    "# Define a Transformer Encoder block\n",
    "def transformer_encoder_block(inputs, num_heads, ff_dim, dropout_rate):\n",
    "    # Multi-head self-attention\n",
    "    attn_output = MultiHeadAttention(num_heads=num_heads, key_dim=inputs.shape[-1])(inputs, inputs)\n",
    "    attn_output = Dropout(dropout_rate)(attn_output)\n",
    "    out1 = LayerNormalization(epsilon=1e-6)(inputs + attn_output)\n",
    "    \n",
    "    # Feed-forward network\n",
    "    ffn_output = Dense(ff_dim, activation='relu')(out1)\n",
    "    ffn_output = Dense(inputs.shape[-1])(ffn_output)\n",
    "    ffn_output = Dropout(dropout_rate)(ffn_output)\n",
    "    out2 = LayerNormalization(epsilon=1e-6)(out1 + ffn_output)\n",
    "    return out2\n",
    "\n",
    "# Build the Transformer-based model\n",
    "def create_transformer_model(input_shape, num_heads=4, ff_dim=128, dropout_rate=0.1, num_transformer_blocks=1):\n",
    "    \"\"\"\n",
    "    Parameters:\n",
    "      input_shape: tuple, e.g. (window_size, num_features)\n",
    "      num_heads: Number of attention heads.\n",
    "      ff_dim: Dimension of the feed-forward network.\n",
    "      dropout_rate: Dropout rate.\n",
    "      num_transformer_blocks: Number of stacked Transformer blocks.\n",
    "    \"\"\"\n",
    "    inputs = Input(shape=input_shape)  # (batch_size, seq_len, num_features)\n",
    "    \n",
    "    # Add positional encoding to maintain sequential information.\n",
    "    x = PositionalEncoding()(inputs)\n",
    "    \n",
    "    # Apply one or more Transformer encoder blocks.\n",
    "    for _ in range(num_transformer_blocks):\n",
    "        x = transformer_encoder_block(x, num_heads, ff_dim, dropout_rate)\n",
    "    \n",
    "    # Global average pooling over the sequence dimension.\n",
    "    x = GlobalAveragePooling1D()(x)\n",
    "    \n",
    "    # Output layer for binary classification.\n",
    "    outputs = Dense(1, activation='sigmoid')(x)\n",
    "    \n",
    "    model = Model(inputs=inputs, outputs=outputs)\n",
    "    model.compile(optimizer='adam', loss='binary_crossentropy', metrics=['accuracy'])\n",
    "    return model"
   ]
  },
  {
   "cell_type": "code",
   "execution_count": 3,
   "metadata": {},
   "outputs": [],
   "source": [
    "def train_test_split_by_date(x, y, test_size=0.2):\n",
    "    \"\"\"\n",
    "    Split the input data into training and test sets by date.\n",
    "    The test set should contain the newest test_size proportion of the data.\n",
    "    \"\"\"\n",
    "    df = pd.concat([x, y], axis=1)\n",
    "    df = df.sort_values(by='author_date_unix_timestamp')\n",
    "    split_index = int((1 - test_size) * len(df))\n",
    "    x_train = df.iloc[:split_index, :-1]\n",
    "    y_train = df.iloc[:split_index, -1]\n",
    "    x_test = df.iloc[split_index:, :-1]\n",
    "    y_test = df.iloc[split_index:, -1]\n",
    "    return x_train, x_test, y_train, y_test\n",
    "\n",
    "from sklearn.feature_selection import SelectFromModel\n",
    "from mrmr import mrmr_classif\n",
    "\n",
    "def select_features(x, y, method=\"model\", estimator=None, threshold=\"median\", \n",
    "                    correlation_threshold=0.9, num_features=50):\n",
    "    \"\"\"\n",
    "    Select features using different methods.\n",
    "\n",
    "    Parameters:\n",
    "      - x: Training features (pandas DataFrame)\n",
    "      - y: Training labels (pandas Series)\n",
    "      - method: Which feature selection method to use.\n",
    "                Options are:\n",
    "                  \"model\" : Model-based feature selection using SelectFromModel.\n",
    "                  \"cbfs\"  : Correlation-based feature selection (CBFS).\n",
    "                  \"mrmr\"  : Minimum Redundancy Maximum Relevance (MRMR) using mrmr_selection.\n",
    "      - estimator: (For \"model\" method) An estimator to compute feature importances.\n",
    "                   If None, an XGBClassifier is used.\n",
    "      - threshold: (For \"model\" method) The threshold for feature importance in SelectFromModel.\n",
    "                   Default is \"median\".\n",
    "      - correlation_threshold: (For \"cbfs\" method) Threshold to drop highly correlated features.\n",
    "      - num_features: (For \"mrmr\" method) Number of features to select.\n",
    "      \n",
    "    Returns:\n",
    "      - A list of selected feature names.\n",
    "    \"\"\"\n",
    "    method = method.lower()\n",
    "    if method == \"model\":\n",
    "        if estimator is None:\n",
    "            estimator = XGBClassifier(tree_method=\"hist\", device=\"cuda\", random_state=42)\n",
    "        estimator.fit(x, y)\n",
    "        selector = SelectFromModel(estimator, threshold=threshold, prefit=True)\n",
    "        selected_features = list(x.columns[selector.get_support()])\n",
    "        return selected_features\n",
    "\n",
    "    elif method == \"cbfs\":\n",
    "        # Compute the absolute correlation matrix and remove one of any pair of highly correlated features.\n",
    "        corr_matrix = x.corr().abs()\n",
    "        # Use only the upper triangle of the correlation matrix.\n",
    "        upper = corr_matrix.where(np.triu(np.ones(corr_matrix.shape), k=1).astype(bool))\n",
    "        to_drop = [column for column in upper.columns if any(upper[column] > correlation_threshold)]\n",
    "        selected_features = [col for col in x.columns if col not in to_drop]\n",
    "        return selected_features\n",
    "\n",
    "    elif method == \"mrmr\":\n",
    "        # Call mrmr_classif directly with the DataFrame (not x.values) so that it can access the column names.\n",
    "        selected_features = mrmr_classif(x, y, K=num_features)\n",
    "        return selected_features\n",
    "\n",
    "    else:\n",
    "        raise ValueError(\"Method must be one of 'model', 'cbfs', or 'mrmr'\")\n",
    "    \n",
    "    # all columns in the dataset\n",
    "INFO_COLUMNS = [\n",
    "                \"type\", #\"linked\", \"fileschanged\",\n",
    "                \"ndev\", \"age\", \"exp\", \"rexp\", \"sexp\",\n",
    "                \"glm_probability\", \"classification\",\n",
    "                \"time_of_day\", \"day_of_week\", \"is_weekend\",\n",
    "                \"author_experience\", \"author_ownership\",\n",
    "                \"hash\",\"file\", \"author_date_unix_timestamp\"]\n",
    "\n",
    "Y_COLUMN = ['contains_bug']\n",
    "\n",
    "X_COLUMNS = [\"d_cbo\",\"d_cboModified\",\"d_fanin\",\n",
    "             \"d_fanout\",\"d_wmc\",\"d_dit\",\"d_noc\",\n",
    "             \"d_rfc\",\"d_lcom\",\"d_lcom*\",\"d_tcc\",\n",
    "             \"d_lcc\",\"d_totalMethodsQty\",\"d_staticMethodsQty\",\n",
    "             \"d_publicMethodsQty\",\"d_privateMethodsQty\",\"d_protectedMethodsQty\",\n",
    "             \"d_defaultMethodsQty\",\"d_visibleMethodsQty\",\"d_abstractMethodsQty\",\n",
    "             \"d_finalMethodsQty\",\"d_synchronizedMethodsQty\",\"d_totalFieldsQty\",\n",
    "             \"d_staticFieldsQty\",\"d_publicFieldsQty\",\"d_privateFieldsQty\",\n",
    "             \"d_protectedFieldsQty\",\"d_defaultFieldsQty\",\"d_finalFieldsQty\",\n",
    "             \"d_synchronizedFieldsQty\",\"d_nosi\",\"d_loc\",\"d_returnQty\",\"d_loopQty\",\n",
    "             \"d_comparisonsQty\",\"d_tryCatchQty\",\"d_parenthesizedExpsQty\",\"d_stringLiteralsQty\",\n",
    "             \"d_numbersQty\",\"d_assignmentsQty\",\"d_mathOperationsQty\",\"d_variablesQty\",\n",
    "             \"d_maxNestedBlocksQty\",\"d_anonymousClassesQty\",\"d_innerClassesQty\",\n",
    "             \"d_lambdasQty\",\n",
    "             #\"d_uniqueWordsQty\",\n",
    "             \"d_modifiers\",\n",
    "             #\"d_logStatementsQty\",\n",
    "             \"cbo\",\"cboModified\",\"fanin\",\"fanout\",\"wmc\",\"dit\",\"noc\",\"rfc\",\"lcom\",\"lcom*\",\n",
    "             \"tcc\",\"lcc\",\"totalMethodsQty\",\"staticMethodsQty\",\"publicMethodsQty\",\n",
    "             \"privateMethodsQty\",\"protectedMethodsQty\",\"defaultMethodsQty\",\n",
    "             \"visibleMethodsQty\",\"abstractMethodsQty\",\"finalMethodsQty\",\n",
    "             \"synchronizedMethodsQty\",\"totalFieldsQty\",\"staticFieldsQty\",\n",
    "             \"publicFieldsQty\",\"privateFieldsQty\",\"protectedFieldsQty\",\n",
    "             \"defaultFieldsQty\",\"finalFieldsQty\",\"synchronizedFieldsQty\",\n",
    "             \"nosi\",\"loc\",\"returnQty\",\"loopQty\",\"comparisonsQty\",\n",
    "             \"tryCatchQty\",\"parenthesizedExpsQty\",\"stringLiteralsQty\",\n",
    "             \"numbersQty\",\"assignmentsQty\",\"mathOperationsQty\",\n",
    "             \"variablesQty\",\"maxNestedBlocksQty\",\"anonymousClassesQty\",\n",
    "             \"innerClassesQty\",\"lambdasQty\",\n",
    "             #\"uniqueWordsQty\", # Number of unique words in the source code\n",
    "             \"modifiers\",\n",
    "             #\"logStatementsQty\", # Number of log statements in the source code\n",
    "             #\"fix\",\n",
    "             \"entrophy\",\n",
    "             \"la\",\"ld\",\n",
    "             #\"net_lines_changed\",\"absolute_lines_changed\",\n",
    "             \"lines_per_file\",\n",
    "             \"changed_file_count\",\n",
    "             #\"entropy_bucket\",\n",
    "             ]\n",
    "\n",
    "DATASETS = [\"merged_datasets/new/broadleaf_merged_df.csv\",\n",
    "            \"merged_datasets/new/camel_merged_df.csv\",\n",
    "            \"merged_datasets/new/dubbo_merged_df.csv\",\n",
    "            \"merged_datasets/new/elasticsearch_merged_df.csv\",\n",
    "            \"merged_datasets/new/guava_merged_df.csv\",\n",
    "            \"merged_datasets/new/jdk_merged_df.csv\",\n",
    "            \"merged_datasets/new/jgroups_merged_df.csv\",\n",
    "            \"merged_datasets/new/kafka_merged_df.csv\",\n",
    "            \"merged_datasets/new/spark_merged_df.csv\",\n",
    "            \"merged_datasets/new/spring-boot_merged_df.csv\",\n",
    "            \"merged_datasets/new/spring-framework_merged_df.csv\",\n",
    "            \"merged_datasets/new/tomcat_merged_df.csv\",\n",
    "            ]"
   ]
  },
  {
   "cell_type": "code",
   "execution_count": 4,
   "metadata": {},
   "outputs": [],
   "source": [
    "def create_sliding_window(X, y, window_size):\n",
    "    \"\"\"\n",
    "    Transform the data into sequences using a sliding window approach.\n",
    "    \n",
    "    Parameters:\n",
    "      X (np.array): Array of features (already scaled).\n",
    "      y (np.array): Array of target values.\n",
    "      window_size (int): Number of consecutive rows in each window.\n",
    "    \n",
    "    Returns:\n",
    "      X_seq (np.array): Array of sequences with shape (samples, window_size, features).\n",
    "      y_seq (np.array): Array of labels corresponding to each sequence.\n",
    "                         Here, the label for a window is the label of the last row.\n",
    "    \"\"\"\n",
    "    X_seq, y_seq = [], []\n",
    "    for i in range(len(X) - window_size + 1):\n",
    "        X_seq.append(X[i: i+window_size])\n",
    "        y_seq.append(y[i+window_size-1])\n",
    "    return np.array(X_seq), np.array(y_seq)"
   ]
  },
  {
   "cell_type": "code",
   "execution_count": 5,
   "metadata": {},
   "outputs": [
    {
     "name": "stdout",
     "output_type": "stream",
     "text": [
      "Selected features: ['d_cbo', 'd_cboModified', 'd_fanin', 'd_fanout', 'd_wmc', 'd_dit', 'd_noc', 'd_rfc', 'd_lcom', 'd_lcom*', 'd_tcc', 'd_lcc', 'd_totalMethodsQty', 'd_staticMethodsQty', 'd_publicMethodsQty', 'd_privateMethodsQty', 'd_protectedMethodsQty', 'd_defaultMethodsQty', 'd_visibleMethodsQty', 'd_abstractMethodsQty', 'd_finalMethodsQty', 'd_synchronizedMethodsQty', 'd_totalFieldsQty', 'd_staticFieldsQty', 'd_publicFieldsQty', 'd_privateFieldsQty', 'd_protectedFieldsQty', 'd_defaultFieldsQty', 'd_finalFieldsQty', 'd_synchronizedFieldsQty', 'd_nosi', 'd_loc', 'd_returnQty', 'd_loopQty', 'd_comparisonsQty', 'd_tryCatchQty', 'd_parenthesizedExpsQty', 'd_stringLiteralsQty', 'd_numbersQty', 'd_assignmentsQty', 'd_mathOperationsQty', 'd_variablesQty', 'd_maxNestedBlocksQty', 'd_anonymousClassesQty', 'd_innerClassesQty', 'd_lambdasQty', 'd_modifiers', 'cbo', 'cboModified', 'fanin', 'fanout', 'wmc', 'dit', 'noc', 'rfc', 'lcom', 'lcom*', 'tcc', 'lcc', 'totalMethodsQty', 'staticMethodsQty', 'publicMethodsQty', 'privateMethodsQty', 'protectedMethodsQty', 'defaultMethodsQty', 'visibleMethodsQty', 'abstractMethodsQty', 'finalMethodsQty', 'synchronizedMethodsQty', 'totalFieldsQty', 'staticFieldsQty', 'publicFieldsQty', 'privateFieldsQty', 'protectedFieldsQty', 'defaultFieldsQty', 'finalFieldsQty', 'synchronizedFieldsQty', 'nosi', 'loc', 'returnQty', 'loopQty', 'comparisonsQty', 'tryCatchQty', 'parenthesizedExpsQty', 'stringLiteralsQty', 'numbersQty', 'assignmentsQty', 'mathOperationsQty', 'variablesQty', 'maxNestedBlocksQty', 'anonymousClassesQty', 'innerClassesQty', 'lambdasQty', 'modifiers', 'entrophy', 'la', 'ld', 'lines_per_file', 'changed_file_count']\n",
      "99\n"
     ]
    }
   ],
   "source": [
    "import pandas as pd\n",
    "from sklearn.preprocessing import MinMaxScaler\n",
    "\n",
    "dataset_file = DATASETS[0]\n",
    "df = pd.read_csv(dataset_file)\n",
    "\n",
    "df = df.fillna(-1)\n",
    "\n",
    "# Extract features and target. Make sure these columns exist in the CSV.\n",
    "X = df[X_COLUMNS + INFO_COLUMNS]\n",
    "y = df[Y_COLUMN]\n",
    "\n",
    "# Split the dataset by date using the provided function\n",
    "x_train, x_test, y_train, y_test = train_test_split_by_date(X, y, test_size=0.2)\n",
    "\n",
    "# Perform feature selection on the training set using only X_COLUMNS\n",
    "selected_features = select_features(x_train[X_COLUMNS], y_train,\n",
    "                                            method=\"cbfs\", correlation_threshold=1)\n",
    "print(f\"Selected features: {selected_features}\")\n",
    "print(len(selected_features))\n",
    "\n",
    "# Scale the features (LSTM models often perform better with scaled inputs)\n",
    "scaler = MinMaxScaler()\n",
    "x_train_scaled = scaler.fit_transform(x_train[selected_features])\n",
    "x_test_scaled = scaler.transform(x_test[selected_features])\n",
    "\n",
    "# Define the sliding window size (N)\n",
    "window_size = 25  \n",
    "\n",
    "# Create sliding windows for both the training and test sets.\n",
    "# The label for each window is taken as the label of the last row in that window.\n",
    "x_train_seq, y_train_seq = create_sliding_window(x_train_scaled, y_train.to_numpy(), window_size)\n",
    "x_test_seq, y_test_seq = create_sliding_window(x_test_scaled, y_test.to_numpy(), window_size)"
   ]
  },
  {
   "cell_type": "code",
   "execution_count": 6,
   "metadata": {},
   "outputs": [
    {
     "name": "stdout",
     "output_type": "stream",
     "text": [
      "Class Weights: {0: np.float64(0.7973117901473329), 1: np.float64(1.3408680997013689)}\n"
     ]
    }
   ],
   "source": [
    "from sklearn.utils.class_weight import compute_class_weight\n",
    "\n",
    "# Get unique classes and compute weights\n",
    "class_weights = compute_class_weight(class_weight=\"balanced\", \n",
    "                                     classes=np.unique(y_train_seq), \n",
    "                                     y=y_train_seq)\n",
    "\n",
    "# Convert to a dictionary format required by Keras\n",
    "class_weight_dict = {i: weight for i, weight in enumerate(class_weights)}\n",
    "print(\"Class Weights:\", class_weight_dict)\n",
    "\n",
    "# Convert to a dictionary format required by Keras\n",
    "class_weight_dict = {i: weight for i, weight in enumerate(class_weights)}"
   ]
  },
  {
   "cell_type": "code",
   "execution_count": 7,
   "metadata": {},
   "outputs": [
    {
     "name": "stderr",
     "output_type": "stream",
     "text": [
      "I0000 00:00:1739907704.340472   78594 gpu_device.cc:2022] Created device /job:localhost/replica:0/task:0/device:GPU:0 with 2248 MB memory:  -> device: 0, name: NVIDIA GeForce GTX 1650, pci bus id: 0000:01:00.0, compute capability: 7.5\n"
     ]
    },
    {
     "data": {
      "text/html": [
       "<pre style=\"white-space:pre;overflow-x:auto;line-height:normal;font-family:Menlo,'DejaVu Sans Mono',consolas,'Courier New',monospace\"><span style=\"font-weight: bold\">Model: \"functional\"</span>\n",
       "</pre>\n"
      ],
      "text/plain": [
       "\u001b[1mModel: \"functional\"\u001b[0m\n"
      ]
     },
     "metadata": {},
     "output_type": "display_data"
    },
    {
     "data": {
      "text/html": [
       "<pre style=\"white-space:pre;overflow-x:auto;line-height:normal;font-family:Menlo,'DejaVu Sans Mono',consolas,'Courier New',monospace\">┏━━━━━━━━━━━━━━━━━━━━━┳━━━━━━━━━━━━━━━━━━━┳━━━━━━━━━━━━┳━━━━━━━━━━━━━━━━━━━┓\n",
       "┃<span style=\"font-weight: bold\"> Layer (type)        </span>┃<span style=\"font-weight: bold\"> Output Shape      </span>┃<span style=\"font-weight: bold\">    Param # </span>┃<span style=\"font-weight: bold\"> Connected to      </span>┃\n",
       "┡━━━━━━━━━━━━━━━━━━━━━╇━━━━━━━━━━━━━━━━━━━╇━━━━━━━━━━━━╇━━━━━━━━━━━━━━━━━━━┩\n",
       "│ input_layer         │ (<span style=\"color: #00d7ff; text-decoration-color: #00d7ff\">None</span>, <span style=\"color: #00af00; text-decoration-color: #00af00\">25</span>, <span style=\"color: #00af00; text-decoration-color: #00af00\">99</span>)    │          <span style=\"color: #00af00; text-decoration-color: #00af00\">0</span> │ -                 │\n",
       "│ (<span style=\"color: #0087ff; text-decoration-color: #0087ff\">InputLayer</span>)        │                   │            │                   │\n",
       "├─────────────────────┼───────────────────┼────────────┼───────────────────┤\n",
       "│ positional_encoding │ (<span style=\"color: #00d7ff; text-decoration-color: #00d7ff\">None</span>, <span style=\"color: #00af00; text-decoration-color: #00af00\">25</span>, <span style=\"color: #00af00; text-decoration-color: #00af00\">99</span>)    │          <span style=\"color: #00af00; text-decoration-color: #00af00\">0</span> │ input_layer[<span style=\"color: #00af00; text-decoration-color: #00af00\">0</span>][<span style=\"color: #00af00; text-decoration-color: #00af00\">0</span>] │\n",
       "│ (<span style=\"color: #0087ff; text-decoration-color: #0087ff\">PositionalEncodin…</span> │                   │            │                   │\n",
       "├─────────────────────┼───────────────────┼────────────┼───────────────────┤\n",
       "│ multi_head_attenti… │ (<span style=\"color: #00d7ff; text-decoration-color: #00d7ff\">None</span>, <span style=\"color: #00af00; text-decoration-color: #00af00\">25</span>, <span style=\"color: #00af00; text-decoration-color: #00af00\">99</span>)    │    <span style=\"color: #00af00; text-decoration-color: #00af00\">158,103</span> │ positional_encod… │\n",
       "│ (<span style=\"color: #0087ff; text-decoration-color: #0087ff\">MultiHeadAttentio…</span> │                   │            │ positional_encod… │\n",
       "├─────────────────────┼───────────────────┼────────────┼───────────────────┤\n",
       "│ dropout_1 (<span style=\"color: #0087ff; text-decoration-color: #0087ff\">Dropout</span>) │ (<span style=\"color: #00d7ff; text-decoration-color: #00d7ff\">None</span>, <span style=\"color: #00af00; text-decoration-color: #00af00\">25</span>, <span style=\"color: #00af00; text-decoration-color: #00af00\">99</span>)    │          <span style=\"color: #00af00; text-decoration-color: #00af00\">0</span> │ multi_head_atten… │\n",
       "├─────────────────────┼───────────────────┼────────────┼───────────────────┤\n",
       "│ add (<span style=\"color: #0087ff; text-decoration-color: #0087ff\">Add</span>)           │ (<span style=\"color: #00d7ff; text-decoration-color: #00d7ff\">None</span>, <span style=\"color: #00af00; text-decoration-color: #00af00\">25</span>, <span style=\"color: #00af00; text-decoration-color: #00af00\">99</span>)    │          <span style=\"color: #00af00; text-decoration-color: #00af00\">0</span> │ positional_encod… │\n",
       "│                     │                   │            │ dropout_1[<span style=\"color: #00af00; text-decoration-color: #00af00\">0</span>][<span style=\"color: #00af00; text-decoration-color: #00af00\">0</span>]   │\n",
       "├─────────────────────┼───────────────────┼────────────┼───────────────────┤\n",
       "│ layer_normalization │ (<span style=\"color: #00d7ff; text-decoration-color: #00d7ff\">None</span>, <span style=\"color: #00af00; text-decoration-color: #00af00\">25</span>, <span style=\"color: #00af00; text-decoration-color: #00af00\">99</span>)    │        <span style=\"color: #00af00; text-decoration-color: #00af00\">198</span> │ add[<span style=\"color: #00af00; text-decoration-color: #00af00\">0</span>][<span style=\"color: #00af00; text-decoration-color: #00af00\">0</span>]         │\n",
       "│ (<span style=\"color: #0087ff; text-decoration-color: #0087ff\">LayerNormalizatio…</span> │                   │            │                   │\n",
       "├─────────────────────┼───────────────────┼────────────┼───────────────────┤\n",
       "│ dense (<span style=\"color: #0087ff; text-decoration-color: #0087ff\">Dense</span>)       │ (<span style=\"color: #00d7ff; text-decoration-color: #00d7ff\">None</span>, <span style=\"color: #00af00; text-decoration-color: #00af00\">25</span>, <span style=\"color: #00af00; text-decoration-color: #00af00\">128</span>)   │     <span style=\"color: #00af00; text-decoration-color: #00af00\">12,800</span> │ layer_normalizat… │\n",
       "├─────────────────────┼───────────────────┼────────────┼───────────────────┤\n",
       "│ dense_1 (<span style=\"color: #0087ff; text-decoration-color: #0087ff\">Dense</span>)     │ (<span style=\"color: #00d7ff; text-decoration-color: #00d7ff\">None</span>, <span style=\"color: #00af00; text-decoration-color: #00af00\">25</span>, <span style=\"color: #00af00; text-decoration-color: #00af00\">99</span>)    │     <span style=\"color: #00af00; text-decoration-color: #00af00\">12,771</span> │ dense[<span style=\"color: #00af00; text-decoration-color: #00af00\">0</span>][<span style=\"color: #00af00; text-decoration-color: #00af00\">0</span>]       │\n",
       "├─────────────────────┼───────────────────┼────────────┼───────────────────┤\n",
       "│ dropout_2 (<span style=\"color: #0087ff; text-decoration-color: #0087ff\">Dropout</span>) │ (<span style=\"color: #00d7ff; text-decoration-color: #00d7ff\">None</span>, <span style=\"color: #00af00; text-decoration-color: #00af00\">25</span>, <span style=\"color: #00af00; text-decoration-color: #00af00\">99</span>)    │          <span style=\"color: #00af00; text-decoration-color: #00af00\">0</span> │ dense_1[<span style=\"color: #00af00; text-decoration-color: #00af00\">0</span>][<span style=\"color: #00af00; text-decoration-color: #00af00\">0</span>]     │\n",
       "├─────────────────────┼───────────────────┼────────────┼───────────────────┤\n",
       "│ add_1 (<span style=\"color: #0087ff; text-decoration-color: #0087ff\">Add</span>)         │ (<span style=\"color: #00d7ff; text-decoration-color: #00d7ff\">None</span>, <span style=\"color: #00af00; text-decoration-color: #00af00\">25</span>, <span style=\"color: #00af00; text-decoration-color: #00af00\">99</span>)    │          <span style=\"color: #00af00; text-decoration-color: #00af00\">0</span> │ layer_normalizat… │\n",
       "│                     │                   │            │ dropout_2[<span style=\"color: #00af00; text-decoration-color: #00af00\">0</span>][<span style=\"color: #00af00; text-decoration-color: #00af00\">0</span>]   │\n",
       "├─────────────────────┼───────────────────┼────────────┼───────────────────┤\n",
       "│ layer_normalizatio… │ (<span style=\"color: #00d7ff; text-decoration-color: #00d7ff\">None</span>, <span style=\"color: #00af00; text-decoration-color: #00af00\">25</span>, <span style=\"color: #00af00; text-decoration-color: #00af00\">99</span>)    │        <span style=\"color: #00af00; text-decoration-color: #00af00\">198</span> │ add_1[<span style=\"color: #00af00; text-decoration-color: #00af00\">0</span>][<span style=\"color: #00af00; text-decoration-color: #00af00\">0</span>]       │\n",
       "│ (<span style=\"color: #0087ff; text-decoration-color: #0087ff\">LayerNormalizatio…</span> │                   │            │                   │\n",
       "├─────────────────────┼───────────────────┼────────────┼───────────────────┤\n",
       "│ multi_head_attenti… │ (<span style=\"color: #00d7ff; text-decoration-color: #00d7ff\">None</span>, <span style=\"color: #00af00; text-decoration-color: #00af00\">25</span>, <span style=\"color: #00af00; text-decoration-color: #00af00\">99</span>)    │    <span style=\"color: #00af00; text-decoration-color: #00af00\">158,103</span> │ layer_normalizat… │\n",
       "│ (<span style=\"color: #0087ff; text-decoration-color: #0087ff\">MultiHeadAttentio…</span> │                   │            │ layer_normalizat… │\n",
       "├─────────────────────┼───────────────────┼────────────┼───────────────────┤\n",
       "│ dropout_4 (<span style=\"color: #0087ff; text-decoration-color: #0087ff\">Dropout</span>) │ (<span style=\"color: #00d7ff; text-decoration-color: #00d7ff\">None</span>, <span style=\"color: #00af00; text-decoration-color: #00af00\">25</span>, <span style=\"color: #00af00; text-decoration-color: #00af00\">99</span>)    │          <span style=\"color: #00af00; text-decoration-color: #00af00\">0</span> │ multi_head_atten… │\n",
       "├─────────────────────┼───────────────────┼────────────┼───────────────────┤\n",
       "│ add_2 (<span style=\"color: #0087ff; text-decoration-color: #0087ff\">Add</span>)         │ (<span style=\"color: #00d7ff; text-decoration-color: #00d7ff\">None</span>, <span style=\"color: #00af00; text-decoration-color: #00af00\">25</span>, <span style=\"color: #00af00; text-decoration-color: #00af00\">99</span>)    │          <span style=\"color: #00af00; text-decoration-color: #00af00\">0</span> │ layer_normalizat… │\n",
       "│                     │                   │            │ dropout_4[<span style=\"color: #00af00; text-decoration-color: #00af00\">0</span>][<span style=\"color: #00af00; text-decoration-color: #00af00\">0</span>]   │\n",
       "├─────────────────────┼───────────────────┼────────────┼───────────────────┤\n",
       "│ layer_normalizatio… │ (<span style=\"color: #00d7ff; text-decoration-color: #00d7ff\">None</span>, <span style=\"color: #00af00; text-decoration-color: #00af00\">25</span>, <span style=\"color: #00af00; text-decoration-color: #00af00\">99</span>)    │        <span style=\"color: #00af00; text-decoration-color: #00af00\">198</span> │ add_2[<span style=\"color: #00af00; text-decoration-color: #00af00\">0</span>][<span style=\"color: #00af00; text-decoration-color: #00af00\">0</span>]       │\n",
       "│ (<span style=\"color: #0087ff; text-decoration-color: #0087ff\">LayerNormalizatio…</span> │                   │            │                   │\n",
       "├─────────────────────┼───────────────────┼────────────┼───────────────────┤\n",
       "│ dense_2 (<span style=\"color: #0087ff; text-decoration-color: #0087ff\">Dense</span>)     │ (<span style=\"color: #00d7ff; text-decoration-color: #00d7ff\">None</span>, <span style=\"color: #00af00; text-decoration-color: #00af00\">25</span>, <span style=\"color: #00af00; text-decoration-color: #00af00\">128</span>)   │     <span style=\"color: #00af00; text-decoration-color: #00af00\">12,800</span> │ layer_normalizat… │\n",
       "├─────────────────────┼───────────────────┼────────────┼───────────────────┤\n",
       "│ dense_3 (<span style=\"color: #0087ff; text-decoration-color: #0087ff\">Dense</span>)     │ (<span style=\"color: #00d7ff; text-decoration-color: #00d7ff\">None</span>, <span style=\"color: #00af00; text-decoration-color: #00af00\">25</span>, <span style=\"color: #00af00; text-decoration-color: #00af00\">99</span>)    │     <span style=\"color: #00af00; text-decoration-color: #00af00\">12,771</span> │ dense_2[<span style=\"color: #00af00; text-decoration-color: #00af00\">0</span>][<span style=\"color: #00af00; text-decoration-color: #00af00\">0</span>]     │\n",
       "├─────────────────────┼───────────────────┼────────────┼───────────────────┤\n",
       "│ dropout_5 (<span style=\"color: #0087ff; text-decoration-color: #0087ff\">Dropout</span>) │ (<span style=\"color: #00d7ff; text-decoration-color: #00d7ff\">None</span>, <span style=\"color: #00af00; text-decoration-color: #00af00\">25</span>, <span style=\"color: #00af00; text-decoration-color: #00af00\">99</span>)    │          <span style=\"color: #00af00; text-decoration-color: #00af00\">0</span> │ dense_3[<span style=\"color: #00af00; text-decoration-color: #00af00\">0</span>][<span style=\"color: #00af00; text-decoration-color: #00af00\">0</span>]     │\n",
       "├─────────────────────┼───────────────────┼────────────┼───────────────────┤\n",
       "│ add_3 (<span style=\"color: #0087ff; text-decoration-color: #0087ff\">Add</span>)         │ (<span style=\"color: #00d7ff; text-decoration-color: #00d7ff\">None</span>, <span style=\"color: #00af00; text-decoration-color: #00af00\">25</span>, <span style=\"color: #00af00; text-decoration-color: #00af00\">99</span>)    │          <span style=\"color: #00af00; text-decoration-color: #00af00\">0</span> │ layer_normalizat… │\n",
       "│                     │                   │            │ dropout_5[<span style=\"color: #00af00; text-decoration-color: #00af00\">0</span>][<span style=\"color: #00af00; text-decoration-color: #00af00\">0</span>]   │\n",
       "├─────────────────────┼───────────────────┼────────────┼───────────────────┤\n",
       "│ layer_normalizatio… │ (<span style=\"color: #00d7ff; text-decoration-color: #00d7ff\">None</span>, <span style=\"color: #00af00; text-decoration-color: #00af00\">25</span>, <span style=\"color: #00af00; text-decoration-color: #00af00\">99</span>)    │        <span style=\"color: #00af00; text-decoration-color: #00af00\">198</span> │ add_3[<span style=\"color: #00af00; text-decoration-color: #00af00\">0</span>][<span style=\"color: #00af00; text-decoration-color: #00af00\">0</span>]       │\n",
       "│ (<span style=\"color: #0087ff; text-decoration-color: #0087ff\">LayerNormalizatio…</span> │                   │            │                   │\n",
       "├─────────────────────┼───────────────────┼────────────┼───────────────────┤\n",
       "│ global_average_poo… │ (<span style=\"color: #00d7ff; text-decoration-color: #00d7ff\">None</span>, <span style=\"color: #00af00; text-decoration-color: #00af00\">99</span>)        │          <span style=\"color: #00af00; text-decoration-color: #00af00\">0</span> │ layer_normalizat… │\n",
       "│ (<span style=\"color: #0087ff; text-decoration-color: #0087ff\">GlobalAveragePool…</span> │                   │            │                   │\n",
       "├─────────────────────┼───────────────────┼────────────┼───────────────────┤\n",
       "│ dense_4 (<span style=\"color: #0087ff; text-decoration-color: #0087ff\">Dense</span>)     │ (<span style=\"color: #00d7ff; text-decoration-color: #00d7ff\">None</span>, <span style=\"color: #00af00; text-decoration-color: #00af00\">1</span>)         │        <span style=\"color: #00af00; text-decoration-color: #00af00\">100</span> │ global_average_p… │\n",
       "└─────────────────────┴───────────────────┴────────────┴───────────────────┘\n",
       "</pre>\n"
      ],
      "text/plain": [
       "┏━━━━━━━━━━━━━━━━━━━━━┳━━━━━━━━━━━━━━━━━━━┳━━━━━━━━━━━━┳━━━━━━━━━━━━━━━━━━━┓\n",
       "┃\u001b[1m \u001b[0m\u001b[1mLayer (type)       \u001b[0m\u001b[1m \u001b[0m┃\u001b[1m \u001b[0m\u001b[1mOutput Shape     \u001b[0m\u001b[1m \u001b[0m┃\u001b[1m \u001b[0m\u001b[1m   Param #\u001b[0m\u001b[1m \u001b[0m┃\u001b[1m \u001b[0m\u001b[1mConnected to     \u001b[0m\u001b[1m \u001b[0m┃\n",
       "┡━━━━━━━━━━━━━━━━━━━━━╇━━━━━━━━━━━━━━━━━━━╇━━━━━━━━━━━━╇━━━━━━━━━━━━━━━━━━━┩\n",
       "│ input_layer         │ (\u001b[38;5;45mNone\u001b[0m, \u001b[38;5;34m25\u001b[0m, \u001b[38;5;34m99\u001b[0m)    │          \u001b[38;5;34m0\u001b[0m │ -                 │\n",
       "│ (\u001b[38;5;33mInputLayer\u001b[0m)        │                   │            │                   │\n",
       "├─────────────────────┼───────────────────┼────────────┼───────────────────┤\n",
       "│ positional_encoding │ (\u001b[38;5;45mNone\u001b[0m, \u001b[38;5;34m25\u001b[0m, \u001b[38;5;34m99\u001b[0m)    │          \u001b[38;5;34m0\u001b[0m │ input_layer[\u001b[38;5;34m0\u001b[0m][\u001b[38;5;34m0\u001b[0m] │\n",
       "│ (\u001b[38;5;33mPositionalEncodin…\u001b[0m │                   │            │                   │\n",
       "├─────────────────────┼───────────────────┼────────────┼───────────────────┤\n",
       "│ multi_head_attenti… │ (\u001b[38;5;45mNone\u001b[0m, \u001b[38;5;34m25\u001b[0m, \u001b[38;5;34m99\u001b[0m)    │    \u001b[38;5;34m158,103\u001b[0m │ positional_encod… │\n",
       "│ (\u001b[38;5;33mMultiHeadAttentio…\u001b[0m │                   │            │ positional_encod… │\n",
       "├─────────────────────┼───────────────────┼────────────┼───────────────────┤\n",
       "│ dropout_1 (\u001b[38;5;33mDropout\u001b[0m) │ (\u001b[38;5;45mNone\u001b[0m, \u001b[38;5;34m25\u001b[0m, \u001b[38;5;34m99\u001b[0m)    │          \u001b[38;5;34m0\u001b[0m │ multi_head_atten… │\n",
       "├─────────────────────┼───────────────────┼────────────┼───────────────────┤\n",
       "│ add (\u001b[38;5;33mAdd\u001b[0m)           │ (\u001b[38;5;45mNone\u001b[0m, \u001b[38;5;34m25\u001b[0m, \u001b[38;5;34m99\u001b[0m)    │          \u001b[38;5;34m0\u001b[0m │ positional_encod… │\n",
       "│                     │                   │            │ dropout_1[\u001b[38;5;34m0\u001b[0m][\u001b[38;5;34m0\u001b[0m]   │\n",
       "├─────────────────────┼───────────────────┼────────────┼───────────────────┤\n",
       "│ layer_normalization │ (\u001b[38;5;45mNone\u001b[0m, \u001b[38;5;34m25\u001b[0m, \u001b[38;5;34m99\u001b[0m)    │        \u001b[38;5;34m198\u001b[0m │ add[\u001b[38;5;34m0\u001b[0m][\u001b[38;5;34m0\u001b[0m]         │\n",
       "│ (\u001b[38;5;33mLayerNormalizatio…\u001b[0m │                   │            │                   │\n",
       "├─────────────────────┼───────────────────┼────────────┼───────────────────┤\n",
       "│ dense (\u001b[38;5;33mDense\u001b[0m)       │ (\u001b[38;5;45mNone\u001b[0m, \u001b[38;5;34m25\u001b[0m, \u001b[38;5;34m128\u001b[0m)   │     \u001b[38;5;34m12,800\u001b[0m │ layer_normalizat… │\n",
       "├─────────────────────┼───────────────────┼────────────┼───────────────────┤\n",
       "│ dense_1 (\u001b[38;5;33mDense\u001b[0m)     │ (\u001b[38;5;45mNone\u001b[0m, \u001b[38;5;34m25\u001b[0m, \u001b[38;5;34m99\u001b[0m)    │     \u001b[38;5;34m12,771\u001b[0m │ dense[\u001b[38;5;34m0\u001b[0m][\u001b[38;5;34m0\u001b[0m]       │\n",
       "├─────────────────────┼───────────────────┼────────────┼───────────────────┤\n",
       "│ dropout_2 (\u001b[38;5;33mDropout\u001b[0m) │ (\u001b[38;5;45mNone\u001b[0m, \u001b[38;5;34m25\u001b[0m, \u001b[38;5;34m99\u001b[0m)    │          \u001b[38;5;34m0\u001b[0m │ dense_1[\u001b[38;5;34m0\u001b[0m][\u001b[38;5;34m0\u001b[0m]     │\n",
       "├─────────────────────┼───────────────────┼────────────┼───────────────────┤\n",
       "│ add_1 (\u001b[38;5;33mAdd\u001b[0m)         │ (\u001b[38;5;45mNone\u001b[0m, \u001b[38;5;34m25\u001b[0m, \u001b[38;5;34m99\u001b[0m)    │          \u001b[38;5;34m0\u001b[0m │ layer_normalizat… │\n",
       "│                     │                   │            │ dropout_2[\u001b[38;5;34m0\u001b[0m][\u001b[38;5;34m0\u001b[0m]   │\n",
       "├─────────────────────┼───────────────────┼────────────┼───────────────────┤\n",
       "│ layer_normalizatio… │ (\u001b[38;5;45mNone\u001b[0m, \u001b[38;5;34m25\u001b[0m, \u001b[38;5;34m99\u001b[0m)    │        \u001b[38;5;34m198\u001b[0m │ add_1[\u001b[38;5;34m0\u001b[0m][\u001b[38;5;34m0\u001b[0m]       │\n",
       "│ (\u001b[38;5;33mLayerNormalizatio…\u001b[0m │                   │            │                   │\n",
       "├─────────────────────┼───────────────────┼────────────┼───────────────────┤\n",
       "│ multi_head_attenti… │ (\u001b[38;5;45mNone\u001b[0m, \u001b[38;5;34m25\u001b[0m, \u001b[38;5;34m99\u001b[0m)    │    \u001b[38;5;34m158,103\u001b[0m │ layer_normalizat… │\n",
       "│ (\u001b[38;5;33mMultiHeadAttentio…\u001b[0m │                   │            │ layer_normalizat… │\n",
       "├─────────────────────┼───────────────────┼────────────┼───────────────────┤\n",
       "│ dropout_4 (\u001b[38;5;33mDropout\u001b[0m) │ (\u001b[38;5;45mNone\u001b[0m, \u001b[38;5;34m25\u001b[0m, \u001b[38;5;34m99\u001b[0m)    │          \u001b[38;5;34m0\u001b[0m │ multi_head_atten… │\n",
       "├─────────────────────┼───────────────────┼────────────┼───────────────────┤\n",
       "│ add_2 (\u001b[38;5;33mAdd\u001b[0m)         │ (\u001b[38;5;45mNone\u001b[0m, \u001b[38;5;34m25\u001b[0m, \u001b[38;5;34m99\u001b[0m)    │          \u001b[38;5;34m0\u001b[0m │ layer_normalizat… │\n",
       "│                     │                   │            │ dropout_4[\u001b[38;5;34m0\u001b[0m][\u001b[38;5;34m0\u001b[0m]   │\n",
       "├─────────────────────┼───────────────────┼────────────┼───────────────────┤\n",
       "│ layer_normalizatio… │ (\u001b[38;5;45mNone\u001b[0m, \u001b[38;5;34m25\u001b[0m, \u001b[38;5;34m99\u001b[0m)    │        \u001b[38;5;34m198\u001b[0m │ add_2[\u001b[38;5;34m0\u001b[0m][\u001b[38;5;34m0\u001b[0m]       │\n",
       "│ (\u001b[38;5;33mLayerNormalizatio…\u001b[0m │                   │            │                   │\n",
       "├─────────────────────┼───────────────────┼────────────┼───────────────────┤\n",
       "│ dense_2 (\u001b[38;5;33mDense\u001b[0m)     │ (\u001b[38;5;45mNone\u001b[0m, \u001b[38;5;34m25\u001b[0m, \u001b[38;5;34m128\u001b[0m)   │     \u001b[38;5;34m12,800\u001b[0m │ layer_normalizat… │\n",
       "├─────────────────────┼───────────────────┼────────────┼───────────────────┤\n",
       "│ dense_3 (\u001b[38;5;33mDense\u001b[0m)     │ (\u001b[38;5;45mNone\u001b[0m, \u001b[38;5;34m25\u001b[0m, \u001b[38;5;34m99\u001b[0m)    │     \u001b[38;5;34m12,771\u001b[0m │ dense_2[\u001b[38;5;34m0\u001b[0m][\u001b[38;5;34m0\u001b[0m]     │\n",
       "├─────────────────────┼───────────────────┼────────────┼───────────────────┤\n",
       "│ dropout_5 (\u001b[38;5;33mDropout\u001b[0m) │ (\u001b[38;5;45mNone\u001b[0m, \u001b[38;5;34m25\u001b[0m, \u001b[38;5;34m99\u001b[0m)    │          \u001b[38;5;34m0\u001b[0m │ dense_3[\u001b[38;5;34m0\u001b[0m][\u001b[38;5;34m0\u001b[0m]     │\n",
       "├─────────────────────┼───────────────────┼────────────┼───────────────────┤\n",
       "│ add_3 (\u001b[38;5;33mAdd\u001b[0m)         │ (\u001b[38;5;45mNone\u001b[0m, \u001b[38;5;34m25\u001b[0m, \u001b[38;5;34m99\u001b[0m)    │          \u001b[38;5;34m0\u001b[0m │ layer_normalizat… │\n",
       "│                     │                   │            │ dropout_5[\u001b[38;5;34m0\u001b[0m][\u001b[38;5;34m0\u001b[0m]   │\n",
       "├─────────────────────┼───────────────────┼────────────┼───────────────────┤\n",
       "│ layer_normalizatio… │ (\u001b[38;5;45mNone\u001b[0m, \u001b[38;5;34m25\u001b[0m, \u001b[38;5;34m99\u001b[0m)    │        \u001b[38;5;34m198\u001b[0m │ add_3[\u001b[38;5;34m0\u001b[0m][\u001b[38;5;34m0\u001b[0m]       │\n",
       "│ (\u001b[38;5;33mLayerNormalizatio…\u001b[0m │                   │            │                   │\n",
       "├─────────────────────┼───────────────────┼────────────┼───────────────────┤\n",
       "│ global_average_poo… │ (\u001b[38;5;45mNone\u001b[0m, \u001b[38;5;34m99\u001b[0m)        │          \u001b[38;5;34m0\u001b[0m │ layer_normalizat… │\n",
       "│ (\u001b[38;5;33mGlobalAveragePool…\u001b[0m │                   │            │                   │\n",
       "├─────────────────────┼───────────────────┼────────────┼───────────────────┤\n",
       "│ dense_4 (\u001b[38;5;33mDense\u001b[0m)     │ (\u001b[38;5;45mNone\u001b[0m, \u001b[38;5;34m1\u001b[0m)         │        \u001b[38;5;34m100\u001b[0m │ global_average_p… │\n",
       "└─────────────────────┴───────────────────┴────────────┴───────────────────┘\n"
      ]
     },
     "metadata": {},
     "output_type": "display_data"
    },
    {
     "data": {
      "text/html": [
       "<pre style=\"white-space:pre;overflow-x:auto;line-height:normal;font-family:Menlo,'DejaVu Sans Mono',consolas,'Courier New',monospace\"><span style=\"font-weight: bold\"> Total params: </span><span style=\"color: #00af00; text-decoration-color: #00af00\">368,240</span> (1.40 MB)\n",
       "</pre>\n"
      ],
      "text/plain": [
       "\u001b[1m Total params: \u001b[0m\u001b[38;5;34m368,240\u001b[0m (1.40 MB)\n"
      ]
     },
     "metadata": {},
     "output_type": "display_data"
    },
    {
     "data": {
      "text/html": [
       "<pre style=\"white-space:pre;overflow-x:auto;line-height:normal;font-family:Menlo,'DejaVu Sans Mono',consolas,'Courier New',monospace\"><span style=\"font-weight: bold\"> Trainable params: </span><span style=\"color: #00af00; text-decoration-color: #00af00\">368,240</span> (1.40 MB)\n",
       "</pre>\n"
      ],
      "text/plain": [
       "\u001b[1m Trainable params: \u001b[0m\u001b[38;5;34m368,240\u001b[0m (1.40 MB)\n"
      ]
     },
     "metadata": {},
     "output_type": "display_data"
    },
    {
     "data": {
      "text/html": [
       "<pre style=\"white-space:pre;overflow-x:auto;line-height:normal;font-family:Menlo,'DejaVu Sans Mono',consolas,'Courier New',monospace\"><span style=\"font-weight: bold\"> Non-trainable params: </span><span style=\"color: #00af00; text-decoration-color: #00af00\">0</span> (0.00 B)\n",
       "</pre>\n"
      ],
      "text/plain": [
       "\u001b[1m Non-trainable params: \u001b[0m\u001b[38;5;34m0\u001b[0m (0.00 B)\n"
      ]
     },
     "metadata": {},
     "output_type": "display_data"
    },
    {
     "name": "stderr",
     "output_type": "stream",
     "text": [
      "2025-02-18 22:41:47.774097: W external/local_xla/xla/tsl/framework/cpu_allocator_impl.cc:83] Allocation of 897920100 exceeds 10% of free system memory.\n",
      "2025-02-18 22:41:49.111412: W external/local_xla/xla/tsl/framework/cpu_allocator_impl.cc:83] Allocation of 897920100 exceeds 10% of free system memory.\n"
     ]
    },
    {
     "name": "stdout",
     "output_type": "stream",
     "text": [
      "Epoch 1/10\n"
     ]
    },
    {
     "name": "stderr",
     "output_type": "stream",
     "text": [
      "WARNING: All log messages before absl::InitializeLog() is called are written to STDERR\n",
      "I0000 00:00:1739907713.740275   78820 service.cc:148] XLA service 0x7f8da4008040 initialized for platform CUDA (this does not guarantee that XLA will be used). Devices:\n",
      "I0000 00:00:1739907713.740910   78820 service.cc:156]   StreamExecutor device (0): NVIDIA GeForce GTX 1650, Compute Capability 7.5\n",
      "2025-02-18 22:41:53.892739: I tensorflow/compiler/mlir/tensorflow/utils/dump_mlir_util.cc:268] disabling MLIR crash reproducer, set env var `MLIR_CRASH_REPRODUCER_DIRECTORY` to enable.\n",
      "I0000 00:00:1739907714.547561   78820 cuda_dnn.cc:529] Loaded cuDNN version 90300\n"
     ]
    },
    {
     "name": "stdout",
     "output_type": "stream",
     "text": [
      "\u001b[1m   3/2835\u001b[0m \u001b[37m━━━━━━━━━━━━━━━━━━━━\u001b[0m \u001b[1m2:11\u001b[0m 46ms/step - accuracy: 0.5052 - loss: 1.2348  "
     ]
    },
    {
     "name": "stderr",
     "output_type": "stream",
     "text": [
      "2025-02-18 22:41:59.966152: I external/local_xla/xla/stream_executor/cuda/cuda_asm_compiler.cc:397] ptxas warning : Registers are spilled to local memory in function 'input_add_multiply_reduce_fusion', 52 bytes spill stores, 48 bytes spill loads\n",
      "\n",
      "I0000 00:00:1739907720.006190   78820 device_compiler.h:188] Compiled cluster using XLA!  This line is logged at most once for the lifetime of the process.\n"
     ]
    },
    {
     "name": "stdout",
     "output_type": "stream",
     "text": [
      "\u001b[1m2835/2835\u001b[0m \u001b[32m━━━━━━━━━━━━━━━━━━━━\u001b[0m\u001b[37m\u001b[0m \u001b[1m0s\u001b[0m 10ms/step - accuracy: 0.7131 - loss: 0.5928"
     ]
    },
    {
     "name": "stderr",
     "output_type": "stream",
     "text": [
      "2025-02-18 22:42:27.307023: W external/local_xla/xla/tsl/framework/cpu_allocator_impl.cc:83] Allocation of 224304300 exceeds 10% of free system memory.\n",
      "2025-02-18 22:42:27.470533: W external/local_xla/xla/tsl/framework/cpu_allocator_impl.cc:83] Allocation of 224304300 exceeds 10% of free system memory.\n"
     ]
    },
    {
     "name": "stdout",
     "output_type": "stream",
     "text": [
      "\u001b[1m2835/2835\u001b[0m \u001b[32m━━━━━━━━━━━━━━━━━━━━\u001b[0m\u001b[37m\u001b[0m \u001b[1m43s\u001b[0m 12ms/step - accuracy: 0.7132 - loss: 0.5928 - val_accuracy: 0.7761 - val_loss: 0.6464\n",
      "Epoch 2/10\n",
      "\u001b[1m2835/2835\u001b[0m \u001b[32m━━━━━━━━━━━━━━━━━━━━\u001b[0m\u001b[37m\u001b[0m \u001b[1m25s\u001b[0m 9ms/step - accuracy: 0.7692 - loss: 0.5201 - val_accuracy: 0.7606 - val_loss: 0.6786\n",
      "Epoch 3/10\n",
      "\u001b[1m2835/2835\u001b[0m \u001b[32m━━━━━━━━━━━━━━━━━━━━\u001b[0m\u001b[37m\u001b[0m \u001b[1m25s\u001b[0m 9ms/step - accuracy: 0.7705 - loss: 0.5052 - val_accuracy: 0.7136 - val_loss: 0.6158\n",
      "Epoch 4/10\n",
      "\u001b[1m2835/2835\u001b[0m \u001b[32m━━━━━━━━━━━━━━━━━━━━\u001b[0m\u001b[37m\u001b[0m \u001b[1m25s\u001b[0m 9ms/step - accuracy: 0.7638 - loss: 0.5362 - val_accuracy: 0.7653 - val_loss: 0.5950\n",
      "Epoch 5/10\n",
      "\u001b[1m2835/2835\u001b[0m \u001b[32m━━━━━━━━━━━━━━━━━━━━\u001b[0m\u001b[37m\u001b[0m \u001b[1m25s\u001b[0m 9ms/step - accuracy: 0.7772 - loss: 0.4941 - val_accuracy: 0.7596 - val_loss: 0.5622\n",
      "Epoch 6/10\n",
      "\u001b[1m2835/2835\u001b[0m \u001b[32m━━━━━━━━━━━━━━━━━━━━\u001b[0m\u001b[37m\u001b[0m \u001b[1m24s\u001b[0m 9ms/step - accuracy: 0.7775 - loss: 0.4903 - val_accuracy: 0.7645 - val_loss: 0.6242\n",
      "Epoch 7/10\n",
      "\u001b[1m2835/2835\u001b[0m \u001b[32m━━━━━━━━━━━━━━━━━━━━\u001b[0m\u001b[37m\u001b[0m \u001b[1m27s\u001b[0m 10ms/step - accuracy: 0.7759 - loss: 0.4936 - val_accuracy: 0.7752 - val_loss: 0.6228\n",
      "Epoch 8/10\n",
      "\u001b[1m2835/2835\u001b[0m \u001b[32m━━━━━━━━━━━━━━━━━━━━\u001b[0m\u001b[37m\u001b[0m \u001b[1m25s\u001b[0m 9ms/step - accuracy: 0.7702 - loss: 0.5190 - val_accuracy: 0.7627 - val_loss: 0.7052\n",
      "Epoch 9/10\n",
      "\u001b[1m2835/2835\u001b[0m \u001b[32m━━━━━━━━━━━━━━━━━━━━\u001b[0m\u001b[37m\u001b[0m \u001b[1m28s\u001b[0m 10ms/step - accuracy: 0.7719 - loss: 0.5204 - val_accuracy: 0.7547 - val_loss: 0.7103\n",
      "Epoch 10/10\n",
      "\u001b[1m2835/2835\u001b[0m \u001b[32m━━━━━━━━━━━━━━━━━━━━\u001b[0m\u001b[37m\u001b[0m \u001b[1m29s\u001b[0m 10ms/step - accuracy: 0.7759 - loss: 0.4957 - val_accuracy: 0.7774 - val_loss: 0.4777\n"
     ]
    }
   ],
   "source": [
    "# Example usage:\n",
    "# Assuming x_train_seq and x_test_seq are your sliding window sequences with shape (samples, window_size, num_features)\n",
    "input_shape = (x_train_seq.shape[1], x_train_seq.shape[2])\n",
    "transformer_model = create_transformer_model(input_shape, num_heads=4, ff_dim=128, dropout_rate=0.1, num_transformer_blocks=2)\n",
    "\n",
    "# Print the model summary\n",
    "transformer_model.summary()\n",
    "\n",
    "# Train the model (using the same training and validation sets as before)\n",
    "history = transformer_model.fit(x_train_seq, y_train_seq,\n",
    "                                epochs=10,\n",
    "                                batch_size=32,\n",
    "                                validation_data=(x_test_seq, y_test_seq),\n",
    "                                class_weight=class_weight_dict)\n",
    "\n"
   ]
  },
  {
   "cell_type": "code",
   "execution_count": 8,
   "metadata": {},
   "outputs": [
    {
     "name": "stdout",
     "output_type": "stream",
     "text": [
      "\u001b[1m 11/709\u001b[0m \u001b[37m━━━━━━━━━━━━━━━━━━━━\u001b[0m \u001b[1m3s\u001b[0m 5ms/step - accuracy: 1.0000 - loss: 0.1292  "
     ]
    },
    {
     "name": "stderr",
     "output_type": "stream",
     "text": [
      "2025-02-18 22:46:27.322805: W external/local_xla/xla/tsl/framework/cpu_allocator_impl.cc:83] Allocation of 224304300 exceeds 10% of free system memory.\n"
     ]
    },
    {
     "name": "stdout",
     "output_type": "stream",
     "text": [
      "\u001b[1m709/709\u001b[0m \u001b[32m━━━━━━━━━━━━━━━━━━━━\u001b[0m\u001b[37m\u001b[0m \u001b[1m5s\u001b[0m 7ms/step - accuracy: 0.8532 - loss: 0.3408\n",
      "Test loss: 0.4777, Test accuracy: 0.7774\n",
      "\u001b[1m709/709\u001b[0m \u001b[32m━━━━━━━━━━━━━━━━━━━━\u001b[0m\u001b[37m\u001b[0m \u001b[1m6s\u001b[0m 7ms/step\n"
     ]
    }
   ],
   "source": [
    "# Evaluate the model\n",
    "test_metrics = transformer_model.evaluate(x_test_seq, y_test_seq)\n",
    "print(f'Test loss: {test_metrics[0]:.4f}, Test accuracy: {test_metrics[1]:.4f}')\n",
    "\n",
    "# Make predictions and generate a classification report (as before)\n",
    "y_pred_probs = transformer_model.predict(x_test_seq)\n",
    "y_pred = (y_pred_probs > 0.5).astype(int)\n",
    "\n"
   ]
  },
  {
   "cell_type": "code",
   "execution_count": 13,
   "metadata": {},
   "outputs": [
    {
     "name": "stdout",
     "output_type": "stream",
     "text": [
      "              precision    recall  f1-score   support\n",
      "\n",
      "       False       0.75      0.23      0.35      5949\n",
      "        True       0.78      0.97      0.87     16708\n",
      "\n",
      "    accuracy                           0.78     22657\n",
      "   macro avg       0.76      0.60      0.61     22657\n",
      "weighted avg       0.77      0.78      0.73     22657\n",
      "\n"
     ]
    }
   ],
   "source": [
    "from sklearn.metrics import classification_report, confusion_matrix\n",
    "print(classification_report(y_test_seq, y_pred))\n",
    "\n",
    "\n"
   ]
  },
  {
   "cell_type": "code",
   "execution_count": null,
   "metadata": {},
   "outputs": [
    {
     "data": {
      "image/png": "[encoded data removed]",
      "text/plain": [
       "<Figure size 800x600 with 2 Axes>"
      ]
     },
     "metadata": {},
     "output_type": "display_data"
    },
    {
     "ename": "",
     "evalue": "",
     "output_type": "error",
     "traceback": [
      "\u001b[1;31mThe Kernel crashed while executing code in the current cell or a previous cell. \n",
      "\u001b[1;31mPlease review the code in the cell(s) to identify a possible cause of the failure. \n",
      "\u001b[1;31mClick <a href='https://aka.ms/vscodeJupyterKernelCrash'>here</a> for more info. \n",
      "\u001b[1;31mView Jupyter <a href='command:jupyter.viewOutput'>log</a> for further details."
     ]
    }
   ],
   "source": [
    "import seaborn as sns\n",
    "import matplotlib.pyplot as plt\n",
    "\n",
    "cm = confusion_matrix(y_test_seq, y_pred)\n",
    "plt.figure(figsize=(8, 6))\n",
    "sns.heatmap(cm, annot=True, fmt='d', cmap='Blues')\n",
    "plt.xlabel('Predicted labels')\n",
    "plt.ylabel('True labels')\n",
    "plt.title('Confusion Matrix')\n",
    "plt.show()"
   ]
  }
 ],
 "metadata": {
  "kernelspec": {
   "display_name": "Python 3",
   "language": "python",
   "name": "python3"
  },
  "language_info": {
   "codemirror_mode": {
    "name": "ipython",
    "version": 3
   },
   "file_extension": ".py",
   "mimetype": "text/x-python",
   "name": "python",
   "nbconvert_exporter": "python",
   "pygments_lexer": "ipython3",
   "version": "3.10.12"
  }
 },
 "nbformat": 4,
 "nbformat_minor": 2
}
