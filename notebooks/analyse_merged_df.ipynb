{
 "cells": [
  {
   "cell_type": "code",
   "execution_count": 40,
   "metadata": {},
   "outputs": [],
   "source": [
    "import pandas as pd"
   ]
  },
  {
   "cell_type": "code",
   "execution_count": 41,
   "metadata": {},
   "outputs": [],
   "source": [
    "INFO_COLUMNS = [\"class\", \"type\", \"linked\", \"fileschanged\",\n",
    "                \"ndev\", \"age\", \"exp\", \"rexp\", \"sexp\",\n",
    "                \"glm_probability\", \"classification\",\n",
    "                \"time_of_day\", \"day_of_week\", \"is_weekend\",\n",
    "                \"author_experience\", \"author_ownership\",\n",
    "                \"hash\",\"file\"]\n",
    "\n",
    "Y_COLUMN = ['contains_bug']\n",
    "\n",
    "X_COLUMNS = [\"d_cbo\",\"d_cboModified\",\"d_fanin\",\n",
    "             \"d_fanout\",\"d_wmc\",\"d_dit\",\"d_noc\",\n",
    "             \"d_rfc\",\"d_lcom\",\"d_lcom*\",\"d_tcc\",\n",
    "             \"d_lcc\",\"d_totalMethodsQty\",\"d_staticMethodsQty\",\n",
    "             \"d_publicMethodsQty\",\"d_privateMethodsQty\",\"d_protectedMethodsQty\",\n",
    "             \"d_defaultMethodsQty\",\"d_visibleMethodsQty\",\"d_abstractMethodsQty\",\n",
    "             \"d_finalMethodsQty\",\"d_synchronizedMethodsQty\",\"d_totalFieldsQty\",\n",
    "             \"d_staticFieldsQty\",\"d_publicFieldsQty\",\"d_privateFieldsQty\",\n",
    "             \"d_protectedFieldsQty\",\"d_defaultFieldsQty\",\"d_finalFieldsQty\",\n",
    "             \"d_synchronizedFieldsQty\",\"d_nosi\",\"d_loc\",\"d_returnQty\",\"d_loopQty\",\n",
    "             \"d_comparisonsQty\",\"d_tryCatchQty\",\"d_parenthesizedExpsQty\",\"d_stringLiteralsQty\",\n",
    "             \"d_numbersQty\",\"d_assignmentsQty\",\"d_mathOperationsQty\",\"d_variablesQty\",\n",
    "             \"d_maxNestedBlocksQty\",\"d_anonymousClassesQty\",\"d_innerClassesQty\",\n",
    "             \"d_lambdasQty\",\"d_uniqueWordsQty\",\"d_modifiers\",\"d_logStatementsQty\",\n",
    "             \"cbo\",\"cboModified\",\"fanin\",\"fanout\",\"wmc\",\"dit\",\"noc\",\"rfc\",\"lcom\",\"lcom*\",\n",
    "             \"tcc\",\"lcc\",\"totalMethodsQty\",\"staticMethodsQty\",\"publicMethodsQty\",\n",
    "             \"privateMethodsQty\",\"protectedMethodsQty\",\"defaultMethodsQty\",\n",
    "             \"visibleMethodsQty\",\"abstractMethodsQty\",\"finalMethodsQty\",\n",
    "             \"synchronizedMethodsQty\",\"totalFieldsQty\",\"staticFieldsQty\",\n",
    "             \"publicFieldsQty\",\"privateFieldsQty\",\"protectedFieldsQty\",\n",
    "             \"defaultFieldsQty\",\"finalFieldsQty\",\"synchronizedFieldsQty\",\n",
    "             \"nosi\",\"loc\",\"returnQty\",\"loopQty\",\"comparisonsQty\",\n",
    "             \"tryCatchQty\",\"parenthesizedExpsQty\",\"stringLiteralsQty\",\n",
    "             \"numbersQty\",\"assignmentsQty\",\"mathOperationsQty\",\n",
    "             \"variablesQty\",\"maxNestedBlocksQty\",\"anonymousClassesQty\",\n",
    "             \"innerClassesQty\",\"lambdasQty\",\"uniqueWordsQty\",\n",
    "             \"modifiers\",\"logStatementsQty\",\"fix\",\"entrophy\",\"la\",\"ld\",\n",
    "             \"net_lines_changed\",\"absolute_lines_changed\",\"lines_per_file\",\n",
    "             \"changed_file_count\",\n",
    "             #\"entropy_bucket\"\n",
    "             ]"
   ]
  },
  {
   "cell_type": "code",
   "execution_count": 42,
   "metadata": {},
   "outputs": [
    {
     "name": "stdout",
     "output_type": "stream",
     "text": [
      "429899\n"
     ]
    }
   ],
   "source": [
    "# read the merged df\n",
    "\n",
    "# done:\n",
    "# elasticsearch_merged_df\n",
    "# camel_merged_df\n",
    "\n",
    "df = pd.read_csv('merged_datasets/new/elasticsearch_merged_df.csv')\n",
    "\n",
    "print(df.shape[0])"
   ]
  },
  {
   "cell_type": "code",
   "execution_count": null,
   "metadata": {},
   "outputs": [
    {
     "name": "stderr",
     "output_type": "stream",
     "text": [
      "C:\\Users\\nipyh\\AppData\\Local\\Temp\\ipykernel_25948\\1760021835.py:7: DtypeWarning: Columns (100,102,103,116) have mixed types. Specify dtype option on import or set low_memory=False.\n",
      "  df = pd.concat([pd.read_csv(f) for f in dfs])\n"
     ]
    }
   ],
   "source": [
    "\"\"\"# or read all into single df\n",
    "dfs = [#\"merged_datasets/elasticsearch_merged_df.csv\",\n",
    "       \"merged_datasets/camel_merged_df.csv\",\n",
    "       \"merged_datasets/spark_merged_df.csv\",\n",
    "       \"merged_datasets/spring-boot_merged_df.csv\",]\n",
    "\n",
    "df = pd.concat([pd.read_csv(f) for f in dfs])\n",
    "\n",
    "df = df.reset_index(drop=True)\"\"\""
   ]
  },
  {
   "cell_type": "code",
   "execution_count": 43,
   "metadata": {},
   "outputs": [],
   "source": [
    "# drop 'classification' column, it's not needed, and mostly NaN values\n",
    "df = df.drop('classification', axis=1)"
   ]
  },
  {
   "cell_type": "code",
   "execution_count": 44,
   "metadata": {},
   "outputs": [],
   "source": [
    "###################################\n",
    "#        Problematic Columns      #\n",
    "###################################\n",
    "\n",
    "# fill NaN values in d_lcom* with 0\n",
    "df['d_lcom*'] = df['d_lcom*'].fillna(0)\n",
    "\n",
    "# fill NaN values in 'd_tcc' with 0\n",
    "df['d_tcc'] = df['d_tcc'].fillna(0)\n",
    "\n",
    "# fill NaN values in 'd_lcc' with 0\n",
    "df['d_lcc'] = df['d_lcc'].fillna(0)\n",
    "\n",
    "# fill NaN values in d_lcom* with 0\n",
    "df['lcom*'] = df['lcom*'].fillna(0)\n",
    "\n",
    "# fill NaN values in 'tcc' with 0\n",
    "df['tcc'] = df['tcc'].fillna(0)\n",
    "\n",
    "# fill NaN values in 'lcc' with 0\n",
    "df['lcc'] = df['lcc'].fillna(0)"
   ]
  },
  {
   "cell_type": "code",
   "execution_count": 45,
   "metadata": {},
   "outputs": [
    {
     "data": {
      "text/html": [
       "<div>\n",
       "<style scoped>\n",
       "    .dataframe tbody tr th:only-of-type {\n",
       "        vertical-align: middle;\n",
       "    }\n",
       "\n",
       "    .dataframe tbody tr th {\n",
       "        vertical-align: top;\n",
       "    }\n",
       "\n",
       "    .dataframe thead th {\n",
       "        text-align: right;\n",
       "    }\n",
       "</style>\n",
       "<table border=\"1\" class=\"dataframe\">\n",
       "  <thead>\n",
       "    <tr style=\"text-align: right;\">\n",
       "      <th></th>\n",
       "      <th>d_cbo</th>\n",
       "      <th>d_cboModified</th>\n",
       "      <th>d_fanin</th>\n",
       "      <th>d_fanout</th>\n",
       "      <th>d_wmc</th>\n",
       "      <th>d_dit</th>\n",
       "      <th>d_noc</th>\n",
       "      <th>d_rfc</th>\n",
       "      <th>d_lcom</th>\n",
       "      <th>d_lcom*</th>\n",
       "      <th>...</th>\n",
       "      <th>net_lines_changed</th>\n",
       "      <th>absolute_lines_changed</th>\n",
       "      <th>lines_per_file</th>\n",
       "      <th>author_experience</th>\n",
       "      <th>author_ownership</th>\n",
       "      <th>changed_file_count</th>\n",
       "      <th>entropy_bucket</th>\n",
       "      <th>num_files_changed</th>\n",
       "      <th>hash</th>\n",
       "      <th>file</th>\n",
       "    </tr>\n",
       "  </thead>\n",
       "  <tbody>\n",
       "    <tr>\n",
       "      <th>0</th>\n",
       "      <td>0</td>\n",
       "      <td>0</td>\n",
       "      <td>0</td>\n",
       "      <td>0</td>\n",
       "      <td>-7</td>\n",
       "      <td>0</td>\n",
       "      <td>0</td>\n",
       "      <td>-14</td>\n",
       "      <td>0</td>\n",
       "      <td>0.0625</td>\n",
       "      <td>...</td>\n",
       "      <td>57.0</td>\n",
       "      <td>409.0</td>\n",
       "      <td>102.25</td>\n",
       "      <td>14937.5</td>\n",
       "      <td>615.0</td>\n",
       "      <td>4</td>\n",
       "      <td>low</td>\n",
       "      <td>4</td>\n",
       "      <td>eb9b897e27bc245cf4124672fa8c7f6fbfe28538</td>\n",
       "      <td>server/src/main/java/org/elasticsearch/common/...</td>\n",
       "    </tr>\n",
       "    <tr>\n",
       "      <th>1</th>\n",
       "      <td>0</td>\n",
       "      <td>0</td>\n",
       "      <td>0</td>\n",
       "      <td>0</td>\n",
       "      <td>0</td>\n",
       "      <td>0</td>\n",
       "      <td>0</td>\n",
       "      <td>0</td>\n",
       "      <td>0</td>\n",
       "      <td>0.0000</td>\n",
       "      <td>...</td>\n",
       "      <td>87.0</td>\n",
       "      <td>93.0</td>\n",
       "      <td>23.25</td>\n",
       "      <td>820.5</td>\n",
       "      <td>617.0</td>\n",
       "      <td>4</td>\n",
       "      <td>low</td>\n",
       "      <td>4</td>\n",
       "      <td>521e4341d7d310ecc4634c5a75a1690b7d9c4884</td>\n",
       "      <td>server/src/main/java/org/elasticsearch/common/...</td>\n",
       "    </tr>\n",
       "    <tr>\n",
       "      <th>2</th>\n",
       "      <td>0</td>\n",
       "      <td>0</td>\n",
       "      <td>0</td>\n",
       "      <td>0</td>\n",
       "      <td>0</td>\n",
       "      <td>0</td>\n",
       "      <td>0</td>\n",
       "      <td>0</td>\n",
       "      <td>0</td>\n",
       "      <td>0.0000</td>\n",
       "      <td>...</td>\n",
       "      <td>87.0</td>\n",
       "      <td>93.0</td>\n",
       "      <td>23.25</td>\n",
       "      <td>820.5</td>\n",
       "      <td>617.0</td>\n",
       "      <td>4</td>\n",
       "      <td>low</td>\n",
       "      <td>4</td>\n",
       "      <td>521e4341d7d310ecc4634c5a75a1690b7d9c4884</td>\n",
       "      <td>server/src/main/java/org/elasticsearch/common/...</td>\n",
       "    </tr>\n",
       "    <tr>\n",
       "      <th>3</th>\n",
       "      <td>0</td>\n",
       "      <td>0</td>\n",
       "      <td>0</td>\n",
       "      <td>0</td>\n",
       "      <td>0</td>\n",
       "      <td>0</td>\n",
       "      <td>0</td>\n",
       "      <td>0</td>\n",
       "      <td>0</td>\n",
       "      <td>0.0000</td>\n",
       "      <td>...</td>\n",
       "      <td>87.0</td>\n",
       "      <td>93.0</td>\n",
       "      <td>23.25</td>\n",
       "      <td>820.5</td>\n",
       "      <td>617.0</td>\n",
       "      <td>4</td>\n",
       "      <td>low</td>\n",
       "      <td>4</td>\n",
       "      <td>521e4341d7d310ecc4634c5a75a1690b7d9c4884</td>\n",
       "      <td>server/src/main/java/org/elasticsearch/common/...</td>\n",
       "    </tr>\n",
       "    <tr>\n",
       "      <th>4</th>\n",
       "      <td>0</td>\n",
       "      <td>0</td>\n",
       "      <td>0</td>\n",
       "      <td>0</td>\n",
       "      <td>0</td>\n",
       "      <td>0</td>\n",
       "      <td>0</td>\n",
       "      <td>0</td>\n",
       "      <td>0</td>\n",
       "      <td>0.0000</td>\n",
       "      <td>...</td>\n",
       "      <td>87.0</td>\n",
       "      <td>93.0</td>\n",
       "      <td>23.25</td>\n",
       "      <td>820.5</td>\n",
       "      <td>617.0</td>\n",
       "      <td>4</td>\n",
       "      <td>low</td>\n",
       "      <td>4</td>\n",
       "      <td>521e4341d7d310ecc4634c5a75a1690b7d9c4884</td>\n",
       "      <td>server/src/main/java/org/elasticsearch/common/...</td>\n",
       "    </tr>\n",
       "  </tbody>\n",
       "</table>\n",
       "<p>5 rows × 125 columns</p>\n",
       "</div>"
      ],
      "text/plain": [
       "   d_cbo  d_cboModified  d_fanin  d_fanout  d_wmc  d_dit  d_noc  d_rfc  \\\n",
       "0      0              0        0         0     -7      0      0    -14   \n",
       "1      0              0        0         0      0      0      0      0   \n",
       "2      0              0        0         0      0      0      0      0   \n",
       "3      0              0        0         0      0      0      0      0   \n",
       "4      0              0        0         0      0      0      0      0   \n",
       "\n",
       "   d_lcom  d_lcom*  ...  net_lines_changed  absolute_lines_changed  \\\n",
       "0       0   0.0625  ...               57.0                   409.0   \n",
       "1       0   0.0000  ...               87.0                    93.0   \n",
       "2       0   0.0000  ...               87.0                    93.0   \n",
       "3       0   0.0000  ...               87.0                    93.0   \n",
       "4       0   0.0000  ...               87.0                    93.0   \n",
       "\n",
       "   lines_per_file  author_experience  author_ownership  changed_file_count  \\\n",
       "0          102.25            14937.5             615.0                   4   \n",
       "1           23.25              820.5             617.0                   4   \n",
       "2           23.25              820.5             617.0                   4   \n",
       "3           23.25              820.5             617.0                   4   \n",
       "4           23.25              820.5             617.0                   4   \n",
       "\n",
       "   entropy_bucket  num_files_changed  \\\n",
       "0             low                  4   \n",
       "1             low                  4   \n",
       "2             low                  4   \n",
       "3             low                  4   \n",
       "4             low                  4   \n",
       "\n",
       "                                       hash  \\\n",
       "0  eb9b897e27bc245cf4124672fa8c7f6fbfe28538   \n",
       "1  521e4341d7d310ecc4634c5a75a1690b7d9c4884   \n",
       "2  521e4341d7d310ecc4634c5a75a1690b7d9c4884   \n",
       "3  521e4341d7d310ecc4634c5a75a1690b7d9c4884   \n",
       "4  521e4341d7d310ecc4634c5a75a1690b7d9c4884   \n",
       "\n",
       "                                                file  \n",
       "0  server/src/main/java/org/elasticsearch/common/...  \n",
       "1  server/src/main/java/org/elasticsearch/common/...  \n",
       "2  server/src/main/java/org/elasticsearch/common/...  \n",
       "3  server/src/main/java/org/elasticsearch/common/...  \n",
       "4  server/src/main/java/org/elasticsearch/common/...  \n",
       "\n",
       "[5 rows x 125 columns]"
      ]
     },
     "execution_count": 45,
     "metadata": {},
     "output_type": "execute_result"
    }
   ],
   "source": [
    "df.head()"
   ]
  },
  {
   "cell_type": "code",
   "execution_count": 101,
   "metadata": {},
   "outputs": [
    {
     "data": {
      "text/plain": [
       "\"pd.set_option('display.max_columns', None)\\npd.set_option('display.max_rows', None)\\npd.set_option('display.width', None)\\nprint(df[df.isnull().sum(axis=1) > 0 ].head(7))\""
      ]
     },
     "execution_count": 101,
     "metadata": {},
     "output_type": "execute_result"
    }
   ],
   "source": [
    "# print 5 rows where it contains only 1 NAN value\n",
    "\"\"\"pd.set_option('display.max_columns', None)\n",
    "pd.set_option('display.max_rows', None)\n",
    "pd.set_option('display.width', None)\n",
    "print(df[df.isnull().sum(axis=1) > 0 ].head(7))\"\"\""
   ]
  },
  {
   "cell_type": "code",
   "execution_count": 46,
   "metadata": {},
   "outputs": [
    {
     "name": "stdout",
     "output_type": "stream",
     "text": [
      "0\n"
     ]
    }
   ],
   "source": [
    "# print the number of rows in the merged_df where its empty column size is greater than 5\n",
    "print(df[df.isnull().sum(axis=1) > 5].shape[0])\n"
   ]
  },
  {
   "cell_type": "code",
   "execution_count": 47,
   "metadata": {},
   "outputs": [
    {
     "data": {
      "text/html": [
       "<div>\n",
       "<style scoped>\n",
       "    .dataframe tbody tr th:only-of-type {\n",
       "        vertical-align: middle;\n",
       "    }\n",
       "\n",
       "    .dataframe tbody tr th {\n",
       "        vertical-align: top;\n",
       "    }\n",
       "\n",
       "    .dataframe thead th {\n",
       "        text-align: right;\n",
       "    }\n",
       "</style>\n",
       "<table border=\"1\" class=\"dataframe\">\n",
       "  <thead>\n",
       "    <tr style=\"text-align: right;\">\n",
       "      <th></th>\n",
       "      <th>d_cbo</th>\n",
       "      <th>d_cboModified</th>\n",
       "      <th>d_fanin</th>\n",
       "      <th>d_fanout</th>\n",
       "      <th>d_wmc</th>\n",
       "      <th>d_dit</th>\n",
       "      <th>d_noc</th>\n",
       "      <th>d_rfc</th>\n",
       "      <th>d_lcom</th>\n",
       "      <th>d_lcom*</th>\n",
       "      <th>...</th>\n",
       "      <th>net_lines_changed</th>\n",
       "      <th>absolute_lines_changed</th>\n",
       "      <th>lines_per_file</th>\n",
       "      <th>author_experience</th>\n",
       "      <th>author_ownership</th>\n",
       "      <th>changed_file_count</th>\n",
       "      <th>entropy_bucket</th>\n",
       "      <th>num_files_changed</th>\n",
       "      <th>hash</th>\n",
       "      <th>file</th>\n",
       "    </tr>\n",
       "  </thead>\n",
       "  <tbody>\n",
       "    <tr>\n",
       "      <th>0</th>\n",
       "      <td>0</td>\n",
       "      <td>0</td>\n",
       "      <td>0</td>\n",
       "      <td>0</td>\n",
       "      <td>-7</td>\n",
       "      <td>0</td>\n",
       "      <td>0</td>\n",
       "      <td>-14</td>\n",
       "      <td>0</td>\n",
       "      <td>0.0625</td>\n",
       "      <td>...</td>\n",
       "      <td>57.0</td>\n",
       "      <td>409.0</td>\n",
       "      <td>102.25</td>\n",
       "      <td>14937.5</td>\n",
       "      <td>615.0</td>\n",
       "      <td>4</td>\n",
       "      <td>low</td>\n",
       "      <td>4</td>\n",
       "      <td>eb9b897e27bc245cf4124672fa8c7f6fbfe28538</td>\n",
       "      <td>server/src/main/java/org/elasticsearch/common/...</td>\n",
       "    </tr>\n",
       "    <tr>\n",
       "      <th>1</th>\n",
       "      <td>0</td>\n",
       "      <td>0</td>\n",
       "      <td>0</td>\n",
       "      <td>0</td>\n",
       "      <td>0</td>\n",
       "      <td>0</td>\n",
       "      <td>0</td>\n",
       "      <td>0</td>\n",
       "      <td>0</td>\n",
       "      <td>0.0000</td>\n",
       "      <td>...</td>\n",
       "      <td>87.0</td>\n",
       "      <td>93.0</td>\n",
       "      <td>23.25</td>\n",
       "      <td>820.5</td>\n",
       "      <td>617.0</td>\n",
       "      <td>4</td>\n",
       "      <td>low</td>\n",
       "      <td>4</td>\n",
       "      <td>521e4341d7d310ecc4634c5a75a1690b7d9c4884</td>\n",
       "      <td>server/src/main/java/org/elasticsearch/common/...</td>\n",
       "    </tr>\n",
       "    <tr>\n",
       "      <th>2</th>\n",
       "      <td>0</td>\n",
       "      <td>0</td>\n",
       "      <td>0</td>\n",
       "      <td>0</td>\n",
       "      <td>0</td>\n",
       "      <td>0</td>\n",
       "      <td>0</td>\n",
       "      <td>0</td>\n",
       "      <td>0</td>\n",
       "      <td>0.0000</td>\n",
       "      <td>...</td>\n",
       "      <td>87.0</td>\n",
       "      <td>93.0</td>\n",
       "      <td>23.25</td>\n",
       "      <td>820.5</td>\n",
       "      <td>617.0</td>\n",
       "      <td>4</td>\n",
       "      <td>low</td>\n",
       "      <td>4</td>\n",
       "      <td>521e4341d7d310ecc4634c5a75a1690b7d9c4884</td>\n",
       "      <td>server/src/main/java/org/elasticsearch/common/...</td>\n",
       "    </tr>\n",
       "    <tr>\n",
       "      <th>3</th>\n",
       "      <td>0</td>\n",
       "      <td>0</td>\n",
       "      <td>0</td>\n",
       "      <td>0</td>\n",
       "      <td>0</td>\n",
       "      <td>0</td>\n",
       "      <td>0</td>\n",
       "      <td>0</td>\n",
       "      <td>0</td>\n",
       "      <td>0.0000</td>\n",
       "      <td>...</td>\n",
       "      <td>87.0</td>\n",
       "      <td>93.0</td>\n",
       "      <td>23.25</td>\n",
       "      <td>820.5</td>\n",
       "      <td>617.0</td>\n",
       "      <td>4</td>\n",
       "      <td>low</td>\n",
       "      <td>4</td>\n",
       "      <td>521e4341d7d310ecc4634c5a75a1690b7d9c4884</td>\n",
       "      <td>server/src/main/java/org/elasticsearch/common/...</td>\n",
       "    </tr>\n",
       "    <tr>\n",
       "      <th>4</th>\n",
       "      <td>0</td>\n",
       "      <td>0</td>\n",
       "      <td>0</td>\n",
       "      <td>0</td>\n",
       "      <td>0</td>\n",
       "      <td>0</td>\n",
       "      <td>0</td>\n",
       "      <td>0</td>\n",
       "      <td>0</td>\n",
       "      <td>0.0000</td>\n",
       "      <td>...</td>\n",
       "      <td>87.0</td>\n",
       "      <td>93.0</td>\n",
       "      <td>23.25</td>\n",
       "      <td>820.5</td>\n",
       "      <td>617.0</td>\n",
       "      <td>4</td>\n",
       "      <td>low</td>\n",
       "      <td>4</td>\n",
       "      <td>521e4341d7d310ecc4634c5a75a1690b7d9c4884</td>\n",
       "      <td>server/src/main/java/org/elasticsearch/common/...</td>\n",
       "    </tr>\n",
       "  </tbody>\n",
       "</table>\n",
       "<p>5 rows × 125 columns</p>\n",
       "</div>"
      ],
      "text/plain": [
       "   d_cbo  d_cboModified  d_fanin  d_fanout  d_wmc  d_dit  d_noc  d_rfc  \\\n",
       "0      0              0        0         0     -7      0      0    -14   \n",
       "1      0              0        0         0      0      0      0      0   \n",
       "2      0              0        0         0      0      0      0      0   \n",
       "3      0              0        0         0      0      0      0      0   \n",
       "4      0              0        0         0      0      0      0      0   \n",
       "\n",
       "   d_lcom  d_lcom*  ...  net_lines_changed  absolute_lines_changed  \\\n",
       "0       0   0.0625  ...               57.0                   409.0   \n",
       "1       0   0.0000  ...               87.0                    93.0   \n",
       "2       0   0.0000  ...               87.0                    93.0   \n",
       "3       0   0.0000  ...               87.0                    93.0   \n",
       "4       0   0.0000  ...               87.0                    93.0   \n",
       "\n",
       "   lines_per_file  author_experience  author_ownership  changed_file_count  \\\n",
       "0          102.25            14937.5             615.0                   4   \n",
       "1           23.25              820.5             617.0                   4   \n",
       "2           23.25              820.5             617.0                   4   \n",
       "3           23.25              820.5             617.0                   4   \n",
       "4           23.25              820.5             617.0                   4   \n",
       "\n",
       "   entropy_bucket  num_files_changed  \\\n",
       "0             low                  4   \n",
       "1             low                  4   \n",
       "2             low                  4   \n",
       "3             low                  4   \n",
       "4             low                  4   \n",
       "\n",
       "                                       hash  \\\n",
       "0  eb9b897e27bc245cf4124672fa8c7f6fbfe28538   \n",
       "1  521e4341d7d310ecc4634c5a75a1690b7d9c4884   \n",
       "2  521e4341d7d310ecc4634c5a75a1690b7d9c4884   \n",
       "3  521e4341d7d310ecc4634c5a75a1690b7d9c4884   \n",
       "4  521e4341d7d310ecc4634c5a75a1690b7d9c4884   \n",
       "\n",
       "                                                file  \n",
       "0  server/src/main/java/org/elasticsearch/common/...  \n",
       "1  server/src/main/java/org/elasticsearch/common/...  \n",
       "2  server/src/main/java/org/elasticsearch/common/...  \n",
       "3  server/src/main/java/org/elasticsearch/common/...  \n",
       "4  server/src/main/java/org/elasticsearch/common/...  \n",
       "\n",
       "[5 rows x 125 columns]"
      ]
     },
     "execution_count": 47,
     "metadata": {},
     "output_type": "execute_result"
    }
   ],
   "source": [
    "# remove these rows\n",
    "df = df[df.isnull().sum(axis=1) <= 5]\n",
    "df.head()"
   ]
  },
  {
   "cell_type": "code",
   "execution_count": 48,
   "metadata": {},
   "outputs": [
    {
     "name": "stdout",
     "output_type": "stream",
     "text": [
      "429899\n"
     ]
    }
   ],
   "source": [
    "print(df.shape[0])"
   ]
  },
  {
   "cell_type": "code",
   "execution_count": 49,
   "metadata": {},
   "outputs": [],
   "source": [
    "# Convert entrophy bucket to a number\n",
    "# low = 0, medium = 1, high = 2\n",
    "\n",
    "#df['entropy_bucket'] = df['entropy_bucket'].map({'low': 0, 'medium': 1, 'high': 2})"
   ]
  },
  {
   "cell_type": "code",
   "execution_count": 50,
   "metadata": {},
   "outputs": [
    {
     "name": "stdout",
     "output_type": "stream",
     "text": [
      "429899\n"
     ]
    }
   ],
   "source": [
    "print(df.shape[0])"
   ]
  },
  {
   "cell_type": "code",
   "execution_count": 51,
   "metadata": {},
   "outputs": [],
   "source": [
    "# fill NaN values with 0 into new df\n",
    "df_filled = df.fillna(0)\n"
   ]
  },
  {
   "cell_type": "markdown",
   "metadata": {},
   "source": [
    "Not planning to use next ones hopefully 🙏"
   ]
  },
  {
   "cell_type": "code",
   "execution_count": 52,
   "metadata": {},
   "outputs": [],
   "source": [
    "# normalize the data between 0 and 1 into new df\n",
    "from sklearn.preprocessing import MinMaxScaler\n",
    "\n",
    "scaler = MinMaxScaler()\n",
    "\n",
    "df_normalized = pd.DataFrame(scaler.fit_transform(df[X_COLUMNS]), columns=X_COLUMNS)\n",
    "\n",
    "df_normalized['contains_bug'] = df['contains_bug']"
   ]
  },
  {
   "cell_type": "code",
   "execution_count": 53,
   "metadata": {},
   "outputs": [],
   "source": [
    "df_filled_normalized = df_normalized.fillna(0)"
   ]
  },
  {
   "cell_type": "markdown",
   "metadata": {},
   "source": [
    "# Column Selection\n",
    "\n",
    "Some columns does not make sense or they require additional human review (such as 'fix' column which indicates if a commit fixes a bug)"
   ]
  },
  {
   "cell_type": "code",
   "execution_count": 54,
   "metadata": {},
   "outputs": [],
   "source": [
    "NUMERIC_COLUMNS = [\"d_cbo\",\"d_cboModified\",\"d_fanin\",\n",
    "             \"d_fanout\",\"d_wmc\",\"d_dit\",\"d_noc\",\n",
    "             \"d_rfc\",\"d_lcom\",\"d_lcom*\",\"d_tcc\",\n",
    "             \"d_lcc\",\"d_totalMethodsQty\",\"d_staticMethodsQty\",\n",
    "             \"d_publicMethodsQty\",\"d_privateMethodsQty\",\"d_protectedMethodsQty\",\n",
    "             \"d_defaultMethodsQty\",\"d_visibleMethodsQty\",\"d_abstractMethodsQty\",\n",
    "             \"d_finalMethodsQty\",\"d_synchronizedMethodsQty\",\"d_totalFieldsQty\",\n",
    "             \"d_staticFieldsQty\",\"d_publicFieldsQty\",\"d_privateFieldsQty\",\n",
    "             \"d_protectedFieldsQty\",\"d_defaultFieldsQty\",\"d_finalFieldsQty\",\n",
    "             \"d_synchronizedFieldsQty\",\"d_nosi\",\"d_loc\",\"d_returnQty\",\"d_loopQty\",\n",
    "             \"d_comparisonsQty\",\"d_tryCatchQty\",\"d_parenthesizedExpsQty\",\"d_stringLiteralsQty\",\n",
    "             \"d_numbersQty\",\"d_assignmentsQty\",\"d_mathOperationsQty\",\"d_variablesQty\",\n",
    "             \"d_maxNestedBlocksQty\",\"d_anonymousClassesQty\",\"d_innerClassesQty\",\n",
    "             \"d_lambdasQty\",\"d_uniqueWordsQty\",\"d_modifiers\",\"d_logStatementsQty\",\n",
    "             \"cbo\",\"cboModified\",\"fanin\",\"fanout\",\"wmc\",\"dit\",\"noc\",\"rfc\",\"lcom\",\"lcom*\",\n",
    "             \"tcc\",\"lcc\",\"totalMethodsQty\",\"staticMethodsQty\",\"publicMethodsQty\",\n",
    "             \"privateMethodsQty\",\"protectedMethodsQty\",\"defaultMethodsQty\",\n",
    "             \"visibleMethodsQty\",\"abstractMethodsQty\",\"finalMethodsQty\",\n",
    "             \"synchronizedMethodsQty\",\"totalFieldsQty\",\"staticFieldsQty\",\n",
    "             \"publicFieldsQty\",\"privateFieldsQty\",\"protectedFieldsQty\",\n",
    "             \"defaultFieldsQty\",\"finalFieldsQty\",\"synchronizedFieldsQty\",\n",
    "             \"nosi\",\"loc\",\"returnQty\",\"loopQty\",\"comparisonsQty\",\n",
    "             \"tryCatchQty\",\"parenthesizedExpsQty\",\"stringLiteralsQty\",\n",
    "             \"numbersQty\",\"assignmentsQty\",\"mathOperationsQty\",\n",
    "             \"variablesQty\",\"maxNestedBlocksQty\",\"anonymousClassesQty\",\n",
    "             \"innerClassesQty\",\"lambdasQty\",\"uniqueWordsQty\",\n",
    "             \"modifiers\",\"logStatementsQty\",\"entrophy\",\"la\",\"ld\",\n",
    "             \"net_lines_changed\",\"absolute_lines_changed\",\"lines_per_file\",\n",
    "             \"changed_file_count\"]"
   ]
  },
  {
   "cell_type": "code",
   "execution_count": 52,
   "metadata": {},
   "outputs": [],
   "source": [
    "#df = df[NUMERIC_COLUMNS + Y_COLUMN]"
   ]
  },
  {
   "cell_type": "markdown",
   "metadata": {},
   "source": [
    "# MRMR algorithm\n"
   ]
  },
  {
   "cell_type": "code",
   "execution_count": 53,
   "metadata": {},
   "outputs": [],
   "source": [
    "# !pip install mrmr_selection"
   ]
  },
  {
   "cell_type": "code",
   "execution_count": 55,
   "metadata": {},
   "outputs": [
    {
     "name": "stderr",
     "output_type": "stream",
     "text": [
      "100%|██████████| 10/10 [00:09<00:00,  1.02it/s]\n"
     ]
    }
   ],
   "source": [
    "from mrmr import mrmr_classif\n",
    "\n",
    "# select the top 10 features\n",
    "selected_features = mrmr_classif(df[NUMERIC_COLUMNS], df[Y_COLUMN], K=10)"
   ]
  },
  {
   "cell_type": "code",
   "execution_count": 56,
   "metadata": {},
   "outputs": [
    {
     "name": "stdout",
     "output_type": "stream",
     "text": [
      "['entrophy', 'changed_file_count', 'ld', 'd_dit', 'absolute_lines_changed', 'la', 'net_lines_changed', 'publicMethodsQty', 'd_uniqueWordsQty', 'lines_per_file']\n"
     ]
    }
   ],
   "source": [
    "print(selected_features)"
   ]
  },
  {
   "cell_type": "code",
   "execution_count": 18,
   "metadata": {},
   "outputs": [
    {
     "name": "stderr",
     "output_type": "stream",
     "text": [
      "100%|██████████| 103/103 [00:34<00:00,  3.00it/s]\n"
     ]
    }
   ],
   "source": [
    "# select the top 10 features\n",
    "selected_features = mrmr_classif(df[NUMERIC_COLUMNS], df[Y_COLUMN], K=len(NUMERIC_COLUMNS))"
   ]
  },
  {
   "cell_type": "code",
   "execution_count": 19,
   "metadata": {},
   "outputs": [
    {
     "name": "stdout",
     "output_type": "stream",
     "text": [
      "['entrophy', 'd_abstractMethodsQty', 'la', 'changed_file_count', 'absolute_lines_changed', 'dit', 'net_lines_changed', 'ld', 'lines_per_file', 'd_nosi', 'synchronizedMethodsQty', 'd_tcc', 'd_noc', 'd_defaultMethodsQty', 'maxNestedBlocksQty', 'd_innerClassesQty', 'd_finalMethodsQty', 'd_logStatementsQty', 'stringLiteralsQty', 'd_lcc', 'finalFieldsQty', 'd_lambdasQty', 'protectedFieldsQty', 'fanin', 'numbersQty', 'd_parenthesizedExpsQty', 'staticFieldsQty', 'fanout', 'mathOperationsQty', 'd_lcom*', 'cbo', 'assignmentsQty', 'd_protectedFieldsQty', 'd_numbersQty', 'tcc', 'd_publicMethodsQty', 'privateMethodsQty', 'd_staticFieldsQty', 'lambdasQty', 'd_modifiers', 'd_rfc', 'rfc', 'd_variablesQty', 'nosi', 'lcc', 'd_stringLiteralsQty', 'defaultFieldsQty', 'd_assignmentsQty', 'loopQty', 'variablesQty', 'd_dit', 'wmc', 'cboModified', 'd_privateMethodsQty', 'noc', 'comparisonsQty', 'parenthesizedExpsQty', 'd_anonymousClassesQty', 'innerClassesQty', 'd_visibleMethodsQty', 'tryCatchQty', 'lcom*', 'd_publicFieldsQty', 'anonymousClassesQty', 'd_tryCatchQty', 'totalMethodsQty', 'uniqueWordsQty', 'd_defaultFieldsQty', 'totalFieldsQty', 'protectedMethodsQty', 'publicMethodsQty', 'privateFieldsQty', 'modifiers', 'd_comparisonsQty', 'd_staticMethodsQty', 'd_loc', 'visibleMethodsQty', 'd_synchronizedMethodsQty', 'loc', 'd_loopQty', 'staticMethodsQty', 'd_maxNestedBlocksQty', 'lcom', 'd_totalMethodsQty', 'finalMethodsQty', 'd_returnQty', 'abstractMethodsQty', 'd_lcom', 'd_cbo', 'd_fanout', 'returnQty', 'd_mathOperationsQty', 'd_cboModified', 'd_protectedMethodsQty', 'logStatementsQty', 'publicFieldsQty', 'd_wmc', 'd_uniqueWordsQty', 'defaultMethodsQty', 'd_fanin', 'd_totalFieldsQty', 'd_privateFieldsQty', 'd_finalFieldsQty']\n"
     ]
    }
   ],
   "source": [
    "print(selected_features)"
   ]
  },
  {
   "cell_type": "markdown",
   "metadata": {},
   "source": [
    "# Correlation Based Feature Selection "
   ]
  },
  {
   "cell_type": "code",
   "execution_count": 20,
   "metadata": {},
   "outputs": [
    {
     "name": "stdout",
     "output_type": "stream",
     "text": [
      "Top 10 features by correlation with contains_bug:\n",
      "entrophy                  0.228579\n",
      "la                        0.115487\n",
      "absolute_lines_changed    0.111864\n",
      "changed_file_count        0.108464\n",
      "ld                        0.080312\n",
      "net_lines_changed         0.056332\n",
      "lines_per_file            0.049321\n",
      "d_abstractMethodsQty      0.008889\n",
      "dit                       0.007694\n",
      "maxNestedBlocksQty        0.007563\n",
      "dtype: float64\n"
     ]
    },
    {
     "data": {
      "image/png": "[encoded data removed]",
      "text/plain": [
       "<Figure size 1200x800 with 2 Axes>"
      ]
     },
     "metadata": {},
     "output_type": "display_data"
    }
   ],
   "source": [
    "import seaborn as sns\n",
    "\n",
    "# Calculate correlation with target variable\n",
    "correlations = df[NUMERIC_COLUMNS].apply(lambda x: x.corr(df['contains_bug']))\n",
    "\n",
    "# Sort correlations by absolute value\n",
    "correlations_abs = correlations.abs().sort_values(ascending=False)\n",
    "\n",
    "# Select top features based on correlation (e.g., top 10)\n",
    "top_correlated_features = correlations_abs.head(10)\n",
    "\n",
    "print(\"Top 10 features by correlation with contains_bug:\")\n",
    "print(top_correlated_features)\n",
    "\n",
    "# Create a heatmap of correlations between top features\n",
    "import matplotlib.pyplot as plt\n",
    "\n",
    "# Select top features for correlation matrix\n",
    "top_features = correlations_abs.index[:10]\n",
    "correlation_matrix = df[list(top_features) + ['contains_bug']].corr()\n",
    "\n",
    "# Create heatmap\n",
    "plt.figure(figsize=(12, 8))\n",
    "sns.heatmap(correlation_matrix, annot=True, cmap='coolwarm', center=0)\n",
    "plt.title('Correlation Heatmap of Top Features')\n",
    "plt.tight_layout()\n",
    "plt.show()"
   ]
  },
  {
   "cell_type": "markdown",
   "metadata": {},
   "source": [
    "# Feature selection with sklearn"
   ]
  },
  {
   "cell_type": "code",
   "execution_count": 67,
   "metadata": {},
   "outputs": [
    {
     "name": "stdout",
     "output_type": "stream",
     "text": [
      "Top 10 features by ANOVA F-value:\n",
      "Index(['d_abstractMethodsQty', 'dit', 'maxNestedBlocksQty', 'entrophy', 'la',\n",
      "       'ld', 'net_lines_changed', 'absolute_lines_changed', 'lines_per_file',\n",
      "       'changed_file_count'],\n",
      "      dtype='object')\n"
     ]
    }
   ],
   "source": [
    "from sklearn.feature_selection import SelectKBest, f_classif, chi2\n",
    "\n",
    "# Select top 10 features using ANOVA F-value\n",
    "selector = SelectKBest(f_classif, k=10)\n",
    "selector.fit(df[NUMERIC_COLUMNS], df[Y_COLUMN])\n",
    "\n",
    "# Get selected features\n",
    "selected_features = df[NUMERIC_COLUMNS].columns[selector.get_support()]\n",
    "\n",
    "print(\"Top 10 features by ANOVA F-value:\")\n",
    "print(selected_features)\n",
    "\n",
    "\n"
   ]
  },
  {
   "cell_type": "code",
   "execution_count": 22,
   "metadata": {},
   "outputs": [
    {
     "ename": "ValueError",
     "evalue": "Input X must be non-negative.",
     "output_type": "error",
     "traceback": [
      "\u001b[1;31m---------------------------------------------------------------------------\u001b[0m",
      "\u001b[1;31mValueError\u001b[0m                                Traceback (most recent call last)",
      "Cell \u001b[1;32mIn[22], line 3\u001b[0m\n\u001b[0;32m      1\u001b[0m \u001b[38;5;66;03m# Select top 10 features using chi-squared\u001b[39;00m\n\u001b[0;32m      2\u001b[0m selector \u001b[38;5;241m=\u001b[39m SelectKBest(chi2, k\u001b[38;5;241m=\u001b[39m\u001b[38;5;241m10\u001b[39m)\n\u001b[1;32m----> 3\u001b[0m \u001b[43mselector\u001b[49m\u001b[38;5;241;43m.\u001b[39;49m\u001b[43mfit\u001b[49m\u001b[43m(\u001b[49m\u001b[43mdf\u001b[49m\u001b[43m[\u001b[49m\u001b[43mNUMERIC_COLUMNS\u001b[49m\u001b[43m]\u001b[49m\u001b[43m,\u001b[49m\u001b[43m \u001b[49m\u001b[43mdf\u001b[49m\u001b[43m[\u001b[49m\u001b[43mY_COLUMN\u001b[49m\u001b[43m]\u001b[49m\u001b[43m)\u001b[49m\n\u001b[0;32m      5\u001b[0m \u001b[38;5;66;03m# Get selected features\u001b[39;00m\n\u001b[0;32m      6\u001b[0m selected_features \u001b[38;5;241m=\u001b[39m df[NUMERIC_COLUMNS]\u001b[38;5;241m.\u001b[39mcolumns[selector\u001b[38;5;241m.\u001b[39mget_support()]\n",
      "File \u001b[1;32mc:\\Coding\\JIT-SDP\\.venv\\Lib\\site-packages\\sklearn\\base.py:1389\u001b[0m, in \u001b[0;36m_fit_context.<locals>.decorator.<locals>.wrapper\u001b[1;34m(estimator, *args, **kwargs)\u001b[0m\n\u001b[0;32m   1382\u001b[0m     estimator\u001b[38;5;241m.\u001b[39m_validate_params()\n\u001b[0;32m   1384\u001b[0m \u001b[38;5;28;01mwith\u001b[39;00m config_context(\n\u001b[0;32m   1385\u001b[0m     skip_parameter_validation\u001b[38;5;241m=\u001b[39m(\n\u001b[0;32m   1386\u001b[0m         prefer_skip_nested_validation \u001b[38;5;129;01mor\u001b[39;00m global_skip_validation\n\u001b[0;32m   1387\u001b[0m     )\n\u001b[0;32m   1388\u001b[0m ):\n\u001b[1;32m-> 1389\u001b[0m     \u001b[38;5;28;01mreturn\u001b[39;00m \u001b[43mfit_method\u001b[49m\u001b[43m(\u001b[49m\u001b[43mestimator\u001b[49m\u001b[43m,\u001b[49m\u001b[43m \u001b[49m\u001b[38;5;241;43m*\u001b[39;49m\u001b[43margs\u001b[49m\u001b[43m,\u001b[49m\u001b[43m \u001b[49m\u001b[38;5;241;43m*\u001b[39;49m\u001b[38;5;241;43m*\u001b[39;49m\u001b[43mkwargs\u001b[49m\u001b[43m)\u001b[49m\n",
      "File \u001b[1;32mc:\\Coding\\JIT-SDP\\.venv\\Lib\\site-packages\\sklearn\\feature_selection\\_univariate_selection.py:566\u001b[0m, in \u001b[0;36m_BaseFilter.fit\u001b[1;34m(self, X, y)\u001b[0m\n\u001b[0;32m    561\u001b[0m     X, y \u001b[38;5;241m=\u001b[39m validate_data(\n\u001b[0;32m    562\u001b[0m         \u001b[38;5;28mself\u001b[39m, X, y, accept_sparse\u001b[38;5;241m=\u001b[39m[\u001b[38;5;124m\"\u001b[39m\u001b[38;5;124mcsr\u001b[39m\u001b[38;5;124m\"\u001b[39m, \u001b[38;5;124m\"\u001b[39m\u001b[38;5;124mcsc\u001b[39m\u001b[38;5;124m\"\u001b[39m], multi_output\u001b[38;5;241m=\u001b[39m\u001b[38;5;28;01mTrue\u001b[39;00m\n\u001b[0;32m    563\u001b[0m     )\n\u001b[0;32m    565\u001b[0m \u001b[38;5;28mself\u001b[39m\u001b[38;5;241m.\u001b[39m_check_params(X, y)\n\u001b[1;32m--> 566\u001b[0m score_func_ret \u001b[38;5;241m=\u001b[39m \u001b[38;5;28;43mself\u001b[39;49m\u001b[38;5;241;43m.\u001b[39;49m\u001b[43mscore_func\u001b[49m\u001b[43m(\u001b[49m\u001b[43mX\u001b[49m\u001b[43m,\u001b[49m\u001b[43m \u001b[49m\u001b[43my\u001b[49m\u001b[43m)\u001b[49m\n\u001b[0;32m    567\u001b[0m \u001b[38;5;28;01mif\u001b[39;00m \u001b[38;5;28misinstance\u001b[39m(score_func_ret, (\u001b[38;5;28mlist\u001b[39m, \u001b[38;5;28mtuple\u001b[39m)):\n\u001b[0;32m    568\u001b[0m     \u001b[38;5;28mself\u001b[39m\u001b[38;5;241m.\u001b[39mscores_, \u001b[38;5;28mself\u001b[39m\u001b[38;5;241m.\u001b[39mpvalues_ \u001b[38;5;241m=\u001b[39m score_func_ret\n",
      "File \u001b[1;32mc:\\Coding\\JIT-SDP\\.venv\\Lib\\site-packages\\sklearn\\utils\\_param_validation.py:189\u001b[0m, in \u001b[0;36mvalidate_params.<locals>.decorator.<locals>.wrapper\u001b[1;34m(*args, **kwargs)\u001b[0m\n\u001b[0;32m    187\u001b[0m global_skip_validation \u001b[38;5;241m=\u001b[39m get_config()[\u001b[38;5;124m\"\u001b[39m\u001b[38;5;124mskip_parameter_validation\u001b[39m\u001b[38;5;124m\"\u001b[39m]\n\u001b[0;32m    188\u001b[0m \u001b[38;5;28;01mif\u001b[39;00m global_skip_validation:\n\u001b[1;32m--> 189\u001b[0m     \u001b[38;5;28;01mreturn\u001b[39;00m \u001b[43mfunc\u001b[49m\u001b[43m(\u001b[49m\u001b[38;5;241;43m*\u001b[39;49m\u001b[43margs\u001b[49m\u001b[43m,\u001b[49m\u001b[43m \u001b[49m\u001b[38;5;241;43m*\u001b[39;49m\u001b[38;5;241;43m*\u001b[39;49m\u001b[43mkwargs\u001b[49m\u001b[43m)\u001b[49m\n\u001b[0;32m    191\u001b[0m func_sig \u001b[38;5;241m=\u001b[39m signature(func)\n\u001b[0;32m    193\u001b[0m \u001b[38;5;66;03m# Map *args/**kwargs to the function signature\u001b[39;00m\n",
      "File \u001b[1;32mc:\\Coding\\JIT-SDP\\.venv\\Lib\\site-packages\\sklearn\\feature_selection\\_univariate_selection.py:265\u001b[0m, in \u001b[0;36mchi2\u001b[1;34m(X, y)\u001b[0m\n\u001b[0;32m    263\u001b[0m X \u001b[38;5;241m=\u001b[39m check_array(X, accept_sparse\u001b[38;5;241m=\u001b[39m\u001b[38;5;124m\"\u001b[39m\u001b[38;5;124mcsr\u001b[39m\u001b[38;5;124m\"\u001b[39m, dtype\u001b[38;5;241m=\u001b[39m(np\u001b[38;5;241m.\u001b[39mfloat64, np\u001b[38;5;241m.\u001b[39mfloat32))\n\u001b[0;32m    264\u001b[0m \u001b[38;5;28;01mif\u001b[39;00m np\u001b[38;5;241m.\u001b[39many((X\u001b[38;5;241m.\u001b[39mdata \u001b[38;5;28;01mif\u001b[39;00m issparse(X) \u001b[38;5;28;01melse\u001b[39;00m X) \u001b[38;5;241m<\u001b[39m \u001b[38;5;241m0\u001b[39m):\n\u001b[1;32m--> 265\u001b[0m     \u001b[38;5;28;01mraise\u001b[39;00m \u001b[38;5;167;01mValueError\u001b[39;00m(\u001b[38;5;124m\"\u001b[39m\u001b[38;5;124mInput X must be non-negative.\u001b[39m\u001b[38;5;124m\"\u001b[39m)\n\u001b[0;32m    267\u001b[0m \u001b[38;5;66;03m# Use a sparse representation for Y by default to reduce memory usage when\u001b[39;00m\n\u001b[0;32m    268\u001b[0m \u001b[38;5;66;03m# y has many unique classes.\u001b[39;00m\n\u001b[0;32m    269\u001b[0m Y \u001b[38;5;241m=\u001b[39m LabelBinarizer(sparse_output\u001b[38;5;241m=\u001b[39m\u001b[38;5;28;01mTrue\u001b[39;00m)\u001b[38;5;241m.\u001b[39mfit_transform(y)\n",
      "\u001b[1;31mValueError\u001b[0m: Input X must be non-negative."
     ]
    }
   ],
   "source": [
    "# Select top 10 features using chi-squared\n",
    "selector = SelectKBest(chi2, k=10)\n",
    "selector.fit(df[NUMERIC_COLUMNS], df[Y_COLUMN])\n",
    "\n",
    "# Get selected features\n",
    "selected_features = df[NUMERIC_COLUMNS].columns[selector.get_support()]\n",
    "\n",
    "print(\"Top 10 features by chi-squared:\")\n",
    "print(selected_features)\n",
    "\n",
    "\n"
   ]
  },
  {
   "cell_type": "code",
   "execution_count": 17,
   "metadata": {},
   "outputs": [
    {
     "name": "stdout",
     "output_type": "stream",
     "text": [
      "Top 25 features by Extra Trees Classifier:\n",
      "changed_file_count        0.163333\n",
      "entrophy                  0.144485\n",
      "absolute_lines_changed    0.094891\n",
      "ld                        0.080462\n",
      "la                        0.079256\n",
      "net_lines_changed         0.060774\n",
      "lines_per_file            0.056512\n",
      "uniqueWordsQty            0.010417\n",
      "lcom*                     0.009075\n",
      "modifiers                 0.008881\n",
      "stringLiteralsQty         0.008867\n",
      "fanout                    0.008805\n",
      "cbo                       0.008698\n",
      "dit                       0.008117\n",
      "rfc                       0.007798\n",
      "cboModified               0.007682\n",
      "d_uniqueWordsQty          0.007461\n",
      "loc                       0.007389\n",
      "returnQty                 0.007388\n",
      "maxNestedBlocksQty        0.007344\n",
      "publicMethodsQty          0.006722\n",
      "assignmentsQty            0.006356\n",
      "variablesQty              0.006247\n",
      "wmc                       0.006059\n",
      "visibleMethodsQty         0.005818\n",
      "dtype: float64\n"
     ]
    },
    {
     "ename": "NameError",
     "evalue": "name 'plt' is not defined",
     "output_type": "error",
     "traceback": [
      "\u001b[1;31m---------------------------------------------------------------------------\u001b[0m",
      "\u001b[1;31mNameError\u001b[0m                                 Traceback (most recent call last)",
      "Cell \u001b[1;32mIn[17], line 17\u001b[0m\n\u001b[0;32m     14\u001b[0m \u001b[38;5;28mprint\u001b[39m(top_features)\n\u001b[0;32m     16\u001b[0m \u001b[38;5;66;03m# Create a bar plot of feature importances\u001b[39;00m\n\u001b[1;32m---> 17\u001b[0m \u001b[43mplt\u001b[49m\u001b[38;5;241m.\u001b[39mfigure(figsize\u001b[38;5;241m=\u001b[39m(\u001b[38;5;241m12\u001b[39m, \u001b[38;5;241m8\u001b[39m))\n\u001b[0;32m     18\u001b[0m top_features\u001b[38;5;241m.\u001b[39mplot(kind\u001b[38;5;241m=\u001b[39m\u001b[38;5;124m'\u001b[39m\u001b[38;5;124mbar\u001b[39m\u001b[38;5;124m'\u001b[39m)\n\u001b[0;32m     19\u001b[0m plt\u001b[38;5;241m.\u001b[39mtitle(\u001b[38;5;124m'\u001b[39m\u001b[38;5;124mFeature Importances from Extra Trees Classifier\u001b[39m\u001b[38;5;124m'\u001b[39m)\n",
      "\u001b[1;31mNameError\u001b[0m: name 'plt' is not defined"
     ]
    }
   ],
   "source": [
    "from sklearn.ensemble import ExtraTreesClassifier\n",
    "\n",
    "# Select top 25 features using Extra Trees Classifier\n",
    "selector = ExtraTreesClassifier(n_estimators=100)\n",
    "selector.fit(df[NUMERIC_COLUMNS], df[Y_COLUMN])\n",
    "\n",
    "# Get feature importances\n",
    "feature_importances = pd.Series(selector.feature_importances_, index=df[NUMERIC_COLUMNS].columns)\n",
    "\n",
    "# Sort feature importances\n",
    "top_features = feature_importances.sort_values(ascending=False).head(25)\n",
    "\n",
    "print(\"Top 25 features by Extra Trees Classifier:\")\n",
    "print(top_features)\n",
    "\n",
    "# Create a bar plot of feature importances\n",
    "plt.figure(figsize=(12, 8))\n",
    "top_features.plot(kind='bar')\n",
    "plt.title('Feature Importances from Extra Trees Classifier')\n",
    "plt.ylabel('Importance')\n",
    "plt.tight_layout()\n",
    "plt.show()\n",
    "\n",
    "\n"
   ]
  },
  {
   "cell_type": "code",
   "execution_count": 24,
   "metadata": {},
   "outputs": [
    {
     "name": "stdout",
     "output_type": "stream",
     "text": [
      "Top 10 features by Recursive Feature Elimination:\n",
      "Index(['d_defaultMethodsQty', 'd_nosi', 'tcc', 'totalMethodsQty',\n",
      "       'privateMethodsQty', 'visibleMethodsQty', 'synchronizedMethodsQty',\n",
      "       'protectedFieldsQty', 'fix', 'entrophy'],\n",
      "      dtype='object')\n"
     ]
    }
   ],
   "source": [
    "from sklearn.feature_selection import RFE\n",
    "from sklearn.linear_model import LogisticRegression\n",
    "\n",
    "# Select top 10 features using Recursive Feature Elimination\n",
    "selector = RFE(LogisticRegression(), n_features_to_select=10)\n",
    "selector.fit(df[X_COLUMNS], df[Y_COLUMN])\n",
    "\n",
    "# Get selected features\n",
    "selected_features = df[X_COLUMNS].columns[selector.support_]\n",
    "\n",
    "print(\"Top 10 features by Recursive Feature Elimination:\")\n",
    "print(selected_features)\n",
    "\n",
    "\n"
   ]
  },
  {
   "cell_type": "code",
   "execution_count": 25,
   "metadata": {},
   "outputs": [
    {
     "name": "stdout",
     "output_type": "stream",
     "text": [
      "Top 10 features by L1-based feature selection:\n",
      "Index(['d_cboModified', 'd_wmc', 'd_dit', 'd_noc', 'd_rfc', 'd_lcom',\n",
      "       'd_lcom*', 'd_tcc', 'd_lcc', 'd_staticMethodsQty',\n",
      "       'd_privateMethodsQty', 'd_protectedMethodsQty', 'd_defaultMethodsQty',\n",
      "       'd_visibleMethodsQty', 'd_abstractMethodsQty', 'd_finalMethodsQty',\n",
      "       'd_totalFieldsQty', 'd_staticFieldsQty', 'd_privateFieldsQty',\n",
      "       'd_defaultFieldsQty', 'd_nosi', 'd_loc', 'd_returnQty',\n",
      "       'd_comparisonsQty', 'd_parenthesizedExpsQty', 'd_stringLiteralsQty',\n",
      "       'd_numbersQty', 'd_assignmentsQty', 'd_mathOperationsQty',\n",
      "       'd_variablesQty', 'd_maxNestedBlocksQty', 'd_anonymousClassesQty',\n",
      "       'd_innerClassesQty', 'd_lambdasQty', 'd_uniqueWordsQty', 'd_modifiers',\n",
      "       'd_logStatementsQty', 'cbo', 'cboModified', 'fanin', 'fanout', 'wmc',\n",
      "       'dit', 'noc', 'rfc', 'lcom', 'lcom*', 'tcc', 'lcc', 'totalMethodsQty',\n",
      "       'staticMethodsQty', 'publicMethodsQty', 'privateMethodsQty',\n",
      "       'protectedMethodsQty', 'defaultMethodsQty', 'visibleMethodsQty',\n",
      "       'finalMethodsQty', 'synchronizedMethodsQty', 'totalFieldsQty',\n",
      "       'staticFieldsQty', 'publicFieldsQty', 'privateFieldsQty',\n",
      "       'protectedFieldsQty', 'finalFieldsQty', 'nosi', 'loc', 'returnQty',\n",
      "       'loopQty', 'comparisonsQty', 'tryCatchQty', 'parenthesizedExpsQty',\n",
      "       'stringLiteralsQty', 'numbersQty', 'assignmentsQty',\n",
      "       'mathOperationsQty', 'variablesQty', 'maxNestedBlocksQty',\n",
      "       'anonymousClassesQty', 'innerClassesQty', 'lambdasQty',\n",
      "       'uniqueWordsQty', 'modifiers', 'logStatementsQty', 'entrophy', 'la',\n",
      "       'ld', 'net_lines_changed', 'absolute_lines_changed', 'lines_per_file',\n",
      "       'changed_file_count'],\n",
      "      dtype='object')\n"
     ]
    }
   ],
   "source": [
    "from sklearn.feature_selection import SelectFromModel\n",
    "\n",
    "# Select top 10 features using L1-based feature selection\n",
    "selector = SelectFromModel(LogisticRegression(penalty='l1', solver='liblinear'))\n",
    "selector.fit(df[NUMERIC_COLUMNS], df[Y_COLUMN])\n",
    "\n",
    "# Get selected features\n",
    "selected_features = df[NUMERIC_COLUMNS].columns[selector.get_support()]\n",
    "\n",
    "print(\"Top 10 features by L1-based feature selection:\")\n",
    "print(selected_features)"
   ]
  },
  {
   "cell_type": "markdown",
   "metadata": {},
   "source": [
    "# Model testing"
   ]
  },
  {
   "cell_type": "code",
   "execution_count": 57,
   "metadata": {},
   "outputs": [],
   "source": [
    "# Create a model with all features and selected features\n",
    "# compare the performance of the two models\n",
    "\n",
    "from sklearn.model_selection import train_test_split\n",
    "from sklearn.linear_model import LogisticRegression\n",
    "from sklearn.metrics import accuracy_score, classification_report\n",
    "\n",
    "# Split data into training and testing sets\n",
    "X_train, X_test, y_train, y_test = train_test_split(df[X_COLUMNS], df[Y_COLUMN], test_size=0.2, random_state=42)\n",
    "\n",
    "# Normalize data\n",
    "scaler = MinMaxScaler()\n",
    "X_train_normalized = scaler.fit_transform(X_train)\n",
    "X_test_normalized = scaler.transform(X_test)\n"
   ]
  },
  {
   "cell_type": "code",
   "execution_count": 58,
   "metadata": {},
   "outputs": [
    {
     "name": "stdout",
     "output_type": "stream",
     "text": [
      "Accuracy with all features: 0.7412654105605955\n",
      "Classification report with all features:\n",
      "              precision    recall  f1-score   support\n",
      "\n",
      "       False       0.73      0.90      0.81     51766\n",
      "        True       0.77      0.49      0.60     34214\n",
      "\n",
      "    accuracy                           0.74     85980\n",
      "   macro avg       0.75      0.70      0.71     85980\n",
      "weighted avg       0.75      0.74      0.73     85980\n",
      "\n"
     ]
    }
   ],
   "source": [
    "# Create a logistic regression model with all features\n",
    "model_all = LogisticRegression()\n",
    "model_all.fit(X_train_normalized, y_train)\n",
    "y_pred_all = model_all.predict(X_test_normalized)\n",
    "accuracy_all = accuracy_score(y_test, y_pred_all)\n",
    "print(\"Accuracy with all features:\", accuracy_all)\n",
    "print(\"Classification report with all features:\")\n",
    "print(classification_report(y_test, y_pred_all))"
   ]
  },
  {
   "cell_type": "code",
   "execution_count": 59,
   "metadata": {},
   "outputs": [
    {
     "name": "stdout",
     "output_type": "stream",
     "text": [
      "Accuracy with all features: 0.9111421260758316\n",
      "Classification report with all features:\n",
      "              precision    recall  f1-score   support\n",
      "\n",
      "       False       0.88      0.99      0.93     51766\n",
      "        True       0.99      0.79      0.88     34214\n",
      "\n",
      "    accuracy                           0.91     85980\n",
      "   macro avg       0.93      0.89      0.90     85980\n",
      "weighted avg       0.92      0.91      0.91     85980\n",
      "\n"
     ]
    }
   ],
   "source": [
    "# create random forest model with all features\n",
    "from sklearn.ensemble import RandomForestClassifier\n",
    "\n",
    "model_all = RandomForestClassifier()\n",
    "model_all.fit(X_train_normalized, y_train)\n",
    "y_pred_all = model_all.predict(X_test_normalized)\n",
    "accuracy_all = accuracy_score(y_test, y_pred_all)\n",
    "print(\"Accuracy with all features:\", accuracy_all)\n",
    "print(\"Classification report with all features:\")\n",
    "print(classification_report(y_test, y_pred_all))\n"
   ]
  },
  {
   "cell_type": "code",
   "execution_count": 60,
   "metadata": {},
   "outputs": [],
   "source": [
    "# apply SMOTE to balance the dataset\n",
    "from imblearn.over_sampling import SMOTE\n",
    "\n",
    "# Apply SMOTE to training data\n",
    "smote = SMOTE(random_state=42)\n",
    "\n",
    "X_train_resampled, y_train_resampled = smote.fit_resample(X_train_normalized, y_train)\n",
    "\n"
   ]
  },
  {
   "cell_type": "code",
   "execution_count": 61,
   "metadata": {},
   "outputs": [
    {
     "name": "stdout",
     "output_type": "stream",
     "text": [
      "(343919, 106)\n",
      "(416234, 106)\n"
     ]
    }
   ],
   "source": [
    "print(X_train_normalized.shape)\n",
    "print(X_train_resampled.shape)"
   ]
  },
  {
   "cell_type": "code",
   "execution_count": 62,
   "metadata": {},
   "outputs": [
    {
     "name": "stdout",
     "output_type": "stream",
     "text": [
      "Accuracy with all features after SMOTE: 0.7300418702023727\n",
      "Classification report with all features after SMOTE:\n",
      "              precision    recall  f1-score   support\n",
      "\n",
      "       False       0.76      0.80      0.78     51766\n",
      "        True       0.67      0.62      0.65     34214\n",
      "\n",
      "    accuracy                           0.73     85980\n",
      "   macro avg       0.72      0.71      0.71     85980\n",
      "weighted avg       0.73      0.73      0.73     85980\n",
      "\n"
     ]
    }
   ],
   "source": [
    "# Create a logistic regression model with all features\n",
    "model_all = LogisticRegression()\n",
    "model_all.fit(X_train_resampled, y_train_resampled)\n",
    "y_pred_all = model_all.predict(X_test_normalized)\n",
    "accuracy_all = accuracy_score(y_test, y_pred_all)\n",
    "print(\"Accuracy with all features after SMOTE:\", accuracy_all)\n",
    "print(\"Classification report with all features after SMOTE:\")\n",
    "print(classification_report(y_test, y_pred_all))\n"
   ]
  },
  {
   "cell_type": "code",
   "execution_count": 63,
   "metadata": {},
   "outputs": [
    {
     "name": "stdout",
     "output_type": "stream",
     "text": [
      "Accuracy with all features after SMOTE: 0.9050127936729472\n",
      "Classification report with all features after SMOTE:\n",
      "              precision    recall  f1-score   support\n",
      "\n",
      "       False       0.88      0.98      0.93     51766\n",
      "        True       0.96      0.79      0.87     34214\n",
      "\n",
      "    accuracy                           0.91     85980\n",
      "   macro avg       0.92      0.89      0.90     85980\n",
      "weighted avg       0.91      0.91      0.90     85980\n",
      "\n"
     ]
    }
   ],
   "source": [
    "# Create a random forest model with all features\n",
    "model_all = RandomForestClassifier()\n",
    "model_all.fit(X_train_resampled, y_train_resampled)\n",
    "y_pred_all = model_all.predict(X_test_normalized)\n",
    "accuracy_all = accuracy_score(y_test, y_pred_all)\n",
    "print(\"Accuracy with all features after SMOTE:\", accuracy_all)\n",
    "print(\"Classification report with all features after SMOTE:\")\n",
    "print(classification_report(y_test, y_pred_all))\n"
   ]
  },
  {
   "cell_type": "code",
   "execution_count": 64,
   "metadata": {},
   "outputs": [],
   "source": [
    "# Undersample majority class\n",
    "from imblearn.under_sampling import RandomUnderSampler\n",
    "\n",
    "# Apply random undersampling to training data\n",
    "undersampler = RandomUnderSampler(random_state=42)\n",
    "\n",
    "X_train_resampled, y_train_resampled = undersampler.fit_resample(X_train_normalized, y_train)\n"
   ]
  },
  {
   "cell_type": "code",
   "execution_count": 65,
   "metadata": {},
   "outputs": [
    {
     "name": "stdout",
     "output_type": "stream",
     "text": [
      "(343919, 106)\n",
      "(271604, 106)\n"
     ]
    }
   ],
   "source": [
    "print(X_train_normalized.shape)\n",
    "print(X_train_resampled.shape)"
   ]
  },
  {
   "cell_type": "code",
   "execution_count": 66,
   "metadata": {},
   "outputs": [
    {
     "name": "stdout",
     "output_type": "stream",
     "text": [
      "Accuracy with all features after random undersampling: 0.7335077925098861\n",
      "Classification report with all features after random undersampling:\n",
      "              precision    recall  f1-score   support\n",
      "\n",
      "       False       0.76      0.81      0.79     51766\n",
      "        True       0.68      0.61      0.65     34214\n",
      "\n",
      "    accuracy                           0.73     85980\n",
      "   macro avg       0.72      0.71      0.72     85980\n",
      "weighted avg       0.73      0.73      0.73     85980\n",
      "\n"
     ]
    }
   ],
   "source": [
    "# Create a logistic regression model with all features\n",
    "model_all = LogisticRegression()\n",
    "model_all.fit(X_train_resampled, y_train_resampled)\n",
    "y_pred_all = model_all.predict(X_test_normalized)\n",
    "accuracy_all = accuracy_score(y_test, y_pred_all)\n",
    "print(\"Accuracy with all features after random undersampling:\", accuracy_all)\n",
    "print(\"Classification report with all features after random undersampling:\")\n",
    "print(classification_report(y_test, y_pred_all))\n"
   ]
  },
  {
   "cell_type": "code",
   "execution_count": 67,
   "metadata": {},
   "outputs": [
    {
     "name": "stdout",
     "output_type": "stream",
     "text": [
      "Accuracy with all features after random undersampling: 0.9178878809025355\n",
      "Classification report with all features after random undersampling:\n",
      "              precision    recall  f1-score   support\n",
      "\n",
      "       False       0.90      0.98      0.93     51766\n",
      "        True       0.96      0.83      0.89     34214\n",
      "\n",
      "    accuracy                           0.92     85980\n",
      "   macro avg       0.93      0.90      0.91     85980\n",
      "weighted avg       0.92      0.92      0.92     85980\n",
      "\n"
     ]
    }
   ],
   "source": [
    "# Create a random forest model with all features\n",
    "model_all = RandomForestClassifier()\n",
    "model_all.fit(X_train_resampled, y_train_resampled)\n",
    "y_pred_all = model_all.predict(X_test_normalized)\n",
    "accuracy_all = accuracy_score(y_test, y_pred_all)\n",
    "print(\"Accuracy with all features after random undersampling:\", accuracy_all)\n",
    "print(\"Classification report with all features after random undersampling:\")\n",
    "print(classification_report(y_test, y_pred_all))\n"
   ]
  },
  {
   "cell_type": "code",
   "execution_count": 45,
   "metadata": {},
   "outputs": [],
   "source": [
    "# do PCA to reduce the number of features\n",
    "from sklearn.decomposition import PCA\n",
    "\n",
    "# Create a PCA object\n",
    "pca = PCA(n_components=50)\n",
    "\n",
    "# Fit and transform the data\n",
    "X_train_pca = pca.fit_transform(X_train_normalized)\n",
    "X_test_pca = pca.transform(X_test_normalized)\n"
   ]
  },
  {
   "cell_type": "code",
   "execution_count": 46,
   "metadata": {},
   "outputs": [
    {
     "name": "stdout",
     "output_type": "stream",
     "text": [
      "Accuracy with PCA features: 0.8392508330460761\n",
      "Classification report with PCA features:\n",
      "              precision    recall  f1-score   support\n",
      "\n",
      "       False       0.84      1.00      0.91     14557\n",
      "        True       0.64      0.04      0.08      2849\n",
      "\n",
      "    accuracy                           0.84     17406\n",
      "   macro avg       0.74      0.52      0.49     17406\n",
      "weighted avg       0.81      0.84      0.78     17406\n",
      "\n"
     ]
    }
   ],
   "source": [
    "# Create a logistic regression model with PCA features\n",
    "model_pca = LogisticRegression()\n",
    "model_pca.fit(X_train_pca, y_train)\n",
    "y_pred_pca = model_pca.predict(X_test_pca)\n",
    "accuracy_pca = accuracy_score(y_test, y_pred_pca)\n",
    "print(\"Accuracy with PCA features:\", accuracy_pca)\n",
    "print(\"Classification report with PCA features:\")\n",
    "print(classification_report(y_test, y_pred_pca))\n"
   ]
  },
  {
   "cell_type": "code",
   "execution_count": 47,
   "metadata": {},
   "outputs": [
    {
     "name": "stdout",
     "output_type": "stream",
     "text": [
      "Accuracy with PCA features: 0.8579800068941744\n",
      "Classification report with PCA features:\n",
      "              precision    recall  f1-score   support\n",
      "\n",
      "       False       0.86      0.99      0.92     14557\n",
      "        True       0.75      0.20      0.31      2849\n",
      "\n",
      "    accuracy                           0.86     17406\n",
      "   macro avg       0.81      0.59      0.62     17406\n",
      "weighted avg       0.84      0.86      0.82     17406\n",
      "\n"
     ]
    }
   ],
   "source": [
    "# Create a random forest model with PCA features\n",
    "model_pca = RandomForestClassifier()\n",
    "model_pca.fit(X_train_pca, y_train)\n",
    "y_pred_pca = model_pca.predict(X_test_pca)\n",
    "accuracy_pca = accuracy_score(y_test, y_pred_pca)\n",
    "print(\"Accuracy with PCA features:\", accuracy_pca)\n",
    "print(\"Classification report with PCA features:\")\n",
    "print(classification_report(y_test, y_pred_pca))"
   ]
  },
  {
   "cell_type": "code",
   "execution_count": 48,
   "metadata": {},
   "outputs": [
    {
     "name": "stdout",
     "output_type": "stream",
     "text": [
      "Accuracy with class weights: 0.6624152591060554\n",
      "Classification report with class weights:\n",
      "              precision    recall  f1-score   support\n",
      "\n",
      "       False       0.90      0.67      0.77     14557\n",
      "        True       0.27      0.61      0.37      2849\n",
      "\n",
      "    accuracy                           0.66     17406\n",
      "   macro avg       0.58      0.64      0.57     17406\n",
      "weighted avg       0.80      0.66      0.70     17406\n",
      "\n"
     ]
    }
   ],
   "source": [
    "# use class weights to handle imbalanced classes\n",
    "# Create a logistic regression model with class weights\n",
    "\n",
    "model_weighted = LogisticRegression(class_weight='balanced')\n",
    "model_weighted.fit(X_train_normalized, y_train)\n",
    "y_pred_weighted = model_weighted.predict(X_test_normalized)\n",
    "accuracy_weighted = accuracy_score(y_test, y_pred_weighted)\n",
    "print(\"Accuracy with class weights:\", accuracy_weighted)\n",
    "print(\"Classification report with class weights:\")\n",
    "print(classification_report(y_test, y_pred_weighted))\n",
    "\n"
   ]
  },
  {
   "cell_type": "code",
   "execution_count": 49,
   "metadata": {},
   "outputs": [
    {
     "name": "stdout",
     "output_type": "stream",
     "text": [
      "Accuracy with class weights: 0.896242674939676\n",
      "Classification report with class weights:\n",
      "              precision    recall  f1-score   support\n",
      "\n",
      "       False       0.89      1.00      0.94     14557\n",
      "        True       0.94      0.39      0.55      2849\n",
      "\n",
      "    accuracy                           0.90     17406\n",
      "   macro avg       0.92      0.69      0.75     17406\n",
      "weighted avg       0.90      0.90      0.88     17406\n",
      "\n"
     ]
    }
   ],
   "source": [
    "# Create a random forest model with class weights\n",
    "model_weighted = RandomForestClassifier(class_weight='balanced')\n",
    "model_weighted.fit(X_train_normalized, y_train)\n",
    "y_pred_weighted = model_weighted.predict(X_test_normalized)\n",
    "accuracy_weighted = accuracy_score(y_test, y_pred_weighted)\n",
    "print(\"Accuracy with class weights:\", accuracy_weighted)\n",
    "print(\"Classification report with class weights:\")\n",
    "print(classification_report(y_test, y_pred_weighted))\n"
   ]
  },
  {
   "cell_type": "code",
   "execution_count": 50,
   "metadata": {},
   "outputs": [
    {
     "name": "stdout",
     "output_type": "stream",
     "text": [
      "Accuracy with XGBoost model: 0.9099161208778582\n",
      "Classification report with XGBoost model:\n",
      "              precision    recall  f1-score   support\n",
      "\n",
      "       False       0.91      0.99      0.95     14557\n",
      "        True       0.95      0.48      0.63      2849\n",
      "\n",
      "    accuracy                           0.91     17406\n",
      "   macro avg       0.93      0.74      0.79     17406\n",
      "weighted avg       0.91      0.91      0.90     17406\n",
      "\n"
     ]
    }
   ],
   "source": [
    "# xgboost\n",
    "from xgboost import XGBClassifier\n",
    "\n",
    "# Create an XGBoost model\n",
    "model_xgb = XGBClassifier()\n",
    "model_xgb.fit(X_train_normalized, y_train)\n",
    "y_pred_xgb = model_xgb.predict(X_test_normalized)\n",
    "accuracy_xgb = accuracy_score(y_test, y_pred_xgb)\n",
    "print(\"Accuracy with XGBoost model:\", accuracy_xgb)\n",
    "print(\"Classification report with XGBoost model:\")\n",
    "print(classification_report(y_test, y_pred_xgb))\n"
   ]
  },
  {
   "cell_type": "code",
   "execution_count": 51,
   "metadata": {},
   "outputs": [],
   "source": [
    "# oversample for xgboost\n",
    "smote = SMOTE(random_state=42)\n",
    "\n",
    "X_train_resampled, y_train_resampled = smote.fit_resample(X_train_normalized, y_train)"
   ]
  },
  {
   "cell_type": "code",
   "execution_count": 52,
   "metadata": {},
   "outputs": [
    {
     "name": "stdout",
     "output_type": "stream",
     "text": [
      "Accuracy with XGBoost model after SMOTE: 0.8827990348155809\n",
      "Classification report with XGBoost model after SMOTE:\n",
      "              precision    recall  f1-score   support\n",
      "\n",
      "       False       0.89      0.99      0.93     14557\n",
      "        True       0.84      0.35      0.49      2849\n",
      "\n",
      "    accuracy                           0.88     17406\n",
      "   macro avg       0.86      0.67      0.71     17406\n",
      "weighted avg       0.88      0.88      0.86     17406\n",
      "\n"
     ]
    }
   ],
   "source": [
    "# Create an XGBoost model\n",
    "model_xgb = XGBClassifier()\n",
    "model_xgb.fit(X_train_resampled, y_train_resampled)\n",
    "y_pred_xgb = model_xgb.predict(X_test_normalized)\n",
    "accuracy_xgb = accuracy_score(y_test, y_pred_xgb)\n",
    "print(\"Accuracy with XGBoost model after SMOTE:\", accuracy_xgb)\n",
    "print(\"Classification report with XGBoost model after SMOTE:\")\n",
    "print(classification_report(y_test, y_pred_xgb))"
   ]
  },
  {
   "cell_type": "code",
   "execution_count": 53,
   "metadata": {},
   "outputs": [],
   "source": [
    "# undersample for xgboost\n",
    "undersampler = RandomUnderSampler(random_state=42)\n",
    "\n",
    "X_train_resampled, y_train_resampled = undersampler.fit_resample(X_train_normalized, y_train)"
   ]
  },
  {
   "cell_type": "code",
   "execution_count": 54,
   "metadata": {},
   "outputs": [
    {
     "name": "stdout",
     "output_type": "stream",
     "text": [
      "Accuracy with XGBoost model after random undersampling: 0.8324715615305067\n",
      "Classification report with XGBoost model after random undersampling:\n",
      "              precision    recall  f1-score   support\n",
      "\n",
      "       False       0.96      0.84      0.89     14557\n",
      "        True       0.49      0.82      0.62      2849\n",
      "\n",
      "    accuracy                           0.83     17406\n",
      "   macro avg       0.73      0.83      0.75     17406\n",
      "weighted avg       0.88      0.83      0.85     17406\n",
      "\n"
     ]
    }
   ],
   "source": [
    "# Create an XGBoost model with undersampled data\n",
    "model_xgb = XGBClassifier()\n",
    "model_xgb.fit(X_train_resampled, y_train_resampled)\n",
    "y_pred_xgb = model_xgb.predict(X_test_normalized)\n",
    "accuracy_xgb = accuracy_score(y_test, y_pred_xgb)\n",
    "print(\"Accuracy with XGBoost model after random undersampling:\", accuracy_xgb)\n",
    "print(\"Classification report with XGBoost model after random undersampling:\")\n",
    "print(classification_report(y_test, y_pred_xgb))"
   ]
  },
  {
   "cell_type": "markdown",
   "metadata": {},
   "source": [
    "# Neural Networks"
   ]
  },
  {
   "cell_type": "code",
   "execution_count": 55,
   "metadata": {},
   "outputs": [
    {
     "name": "stdout",
     "output_type": "stream",
     "text": [
      "Accuracy with neural network model: 0.8370676778122487\n",
      "Classification report with neural network model:\n",
      "              precision    recall  f1-score   support\n",
      "\n",
      "       False       0.85      0.98      0.91     14557\n",
      "        True       0.51      0.10      0.17      2849\n",
      "\n",
      "    accuracy                           0.84     17406\n",
      "   macro avg       0.68      0.54      0.54     17406\n",
      "weighted avg       0.79      0.84      0.79     17406\n",
      "\n"
     ]
    }
   ],
   "source": [
    "# lets implement neural network model\n",
    "from sklearn.neural_network import MLPClassifier\n",
    "\n",
    "# Create a neural network model\n",
    "model_nn = MLPClassifier(hidden_layer_sizes=(100, 50), max_iter=1000, random_state=42)\n",
    "model_nn.fit(X_train_normalized, y_train)\n",
    "\n",
    "y_pred_nn = model_nn.predict(X_test_normalized)\n",
    "accuracy_nn = accuracy_score(y_test, y_pred_nn)\n",
    "print(\"Accuracy with neural network model:\", accuracy_nn)\n",
    "print(\"Classification report with neural network model:\")\n",
    "print(classification_report(y_test, y_pred_nn))\n",
    "\n"
   ]
  },
  {
   "cell_type": "code",
   "execution_count": 62,
   "metadata": {},
   "outputs": [
    {
     "name": "stdout",
     "output_type": "stream",
     "text": [
      "Accuracy with XGBoost model and scale_pos_weight: 0.8942893255199357\n",
      "Classification report with XGBoost model and scale_pos_weight:\n",
      "              precision    recall  f1-score   support\n",
      "\n",
      "       False       0.96      0.91      0.94     14557\n",
      "        True       0.64      0.82      0.72      2849\n",
      "\n",
      "    accuracy                           0.89     17406\n",
      "   macro avg       0.80      0.86      0.83     17406\n",
      "weighted avg       0.91      0.89      0.90     17406\n",
      "\n"
     ]
    }
   ],
   "source": [
    "# lets use scale pos weight to handle imbalanced classes\n",
    "# Calculate the ratio of negative to positive samples\n",
    "scale_pos_weight = (y_train['contains_bug'] == False).sum() / (y_train['contains_bug'] == True).sum()\n",
    "\n",
    "# Create an XGBoost model with scale_pos_weight\n",
    "model_xgb = XGBClassifier(scale_pos_weight=scale_pos_weight)\n",
    "model_xgb.fit(X_train_normalized, y_train.values.ravel())\n",
    "y_pred_xgb = model_xgb.predict(X_test_normalized)\n",
    "accuracy_xgb = accuracy_score(y_test, y_pred_xgb)\n",
    "print(\"Accuracy with XGBoost model and scale_pos_weight:\", accuracy_xgb)\n",
    "print(\"Classification report with XGBoost model and scale_pos_weight:\")\n",
    "print(classification_report(y_test, y_pred_xgb))\n"
   ]
  },
  {
   "cell_type": "code",
   "execution_count": 69,
   "metadata": {},
   "outputs": [
    {
     "ename": "TypeError",
     "evalue": "only integer scalar arrays can be converted to a scalar index",
     "output_type": "error",
     "traceback": [
      "\u001b[1;31m---------------------------------------------------------------------------\u001b[0m",
      "\u001b[1;31mTypeError\u001b[0m                                 Traceback (most recent call last)",
      "Cell \u001b[1;32mIn[69], line 3\u001b[0m\n\u001b[0;32m      1\u001b[0m \u001b[38;5;66;03m# Get selected features from the selector\u001b[39;00m\n\u001b[0;32m      2\u001b[0m selected_features_mask \u001b[38;5;241m=\u001b[39m selector\u001b[38;5;241m.\u001b[39mget_support()\n\u001b[1;32m----> 3\u001b[0m selected_feature_names \u001b[38;5;241m=\u001b[39m \u001b[43mNUMERIC_COLUMNS\u001b[49m\u001b[43m[\u001b[49m\u001b[43mselected_features_mask\u001b[49m\u001b[43m]\u001b[49m\n\u001b[0;32m      5\u001b[0m \u001b[38;5;66;03m# Create DataFrames with only selected features\u001b[39;00m\n\u001b[0;32m      6\u001b[0m X_train_selected \u001b[38;5;241m=\u001b[39m pd\u001b[38;5;241m.\u001b[39mDataFrame(X_train_normalized, columns\u001b[38;5;241m=\u001b[39mX_train\u001b[38;5;241m.\u001b[39mcolumns)[selected_feature_names]\n",
      "\u001b[1;31mTypeError\u001b[0m: only integer scalar arrays can be converted to a scalar index"
     ]
    }
   ],
   "source": [
    "# Create a logistic regression model with selected features\n",
    "model_selected = LogisticRegression()\n",
    "model_selected.fit(X_train_normalized[:, selector.get_support()], y_train)\n",
    "y_pred_selected = model_selected.predict(X_test_normalized[:, selector.get_support()])\n",
    "accuracy_selected = accuracy_score(y_test, y_pred_selected)\n",
    "print(\"Accuracy with selected features:\", accuracy_selected)\n",
    "print(\"Classification report with selected features:\")\n",
    "print(classification_report(y_test, y_pred_selected))\n"
   ]
  },
  {
   "cell_type": "code",
   "execution_count": 70,
   "metadata": {},
   "outputs": [
    {
     "name": "stdout",
     "output_type": "stream",
     "text": [
      "contains_bug\n",
      "False    72912\n",
      "True     14114\n",
      "Name: count, dtype: int64\n"
     ]
    }
   ],
   "source": [
    "# print label distribution\n",
    "print(df['contains_bug'].value_counts())"
   ]
  }
 ],
 "metadata": {
  "kernelspec": {
   "display_name": ".venv",
   "language": "python",
   "name": "python3"
  },
  "language_info": {
   "codemirror_mode": {
    "name": "ipython",
    "version": 3
   },
   "file_extension": ".py",
   "mimetype": "text/x-python",
   "name": "python",
   "nbconvert_exporter": "python",
   "pygments_lexer": "ipython3",
   "version": "3.12.6"
  }
 },
 "nbformat": 4,
 "nbformat_minor": 2
}
