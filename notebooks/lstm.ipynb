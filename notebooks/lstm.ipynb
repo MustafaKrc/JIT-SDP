{
 "cells": [
  {
   "cell_type": "code",
   "execution_count": 2,
   "metadata": {},
   "outputs": [
    {
     "name": "stderr",
     "output_type": "stream",
     "text": [
      "2025-02-18 22:09:35.258627: E external/local_xla/xla/stream_executor/cuda/cuda_fft.cc:477] Unable to register cuFFT factory: Attempting to register factory for plugin cuFFT when one has already been registered\n",
      "WARNING: All log messages before absl::InitializeLog() is called are written to STDERR\n",
      "E0000 00:00:1739905775.378304   63957 cuda_dnn.cc:8310] Unable to register cuDNN factory: Attempting to register factory for plugin cuDNN when one has already been registered\n",
      "E0000 00:00:1739905775.410862   63957 cuda_blas.cc:1418] Unable to register cuBLAS factory: Attempting to register factory for plugin cuBLAS when one has already been registered\n",
      "2025-02-18 22:09:35.700083: I tensorflow/core/platform/cpu_feature_guard.cc:210] This TensorFlow binary is optimized to use available CPU instructions in performance-critical operations.\n",
      "To enable the following instructions: AVX2 FMA, in other operations, rebuild TensorFlow with the appropriate compiler flags.\n"
     ]
    }
   ],
   "source": [
    "# Import essential Python libraries\n",
    "import numpy as np\n",
    "import pandas as pd\n",
    "import matplotlib.pyplot as plt\n",
    "\n",
    "# Import TensorFlow and Keras modules for implementing the LSTM\n",
    "import tensorflow as tf\n",
    "from tensorflow.keras.models import Sequential\n",
    "from tensorflow.keras.layers import LSTM, Dense, Dropout"
   ]
  },
  {
   "cell_type": "code",
   "execution_count": 3,
   "metadata": {},
   "outputs": [],
   "source": [
    "def train_test_split_by_date(x, y, test_size=0.2):\n",
    "    \"\"\"\n",
    "    Split the input data into training and test sets by date.\n",
    "    The test set should contain the newest test_size proportion of the data.\n",
    "    \"\"\"\n",
    "    df = pd.concat([x, y], axis=1)\n",
    "    df = df.sort_values(by='author_date_unix_timestamp')\n",
    "    split_index = int((1 - test_size) * len(df))\n",
    "    x_train = df.iloc[:split_index, :-1]\n",
    "    y_train = df.iloc[:split_index, -1]\n",
    "    x_test = df.iloc[split_index:, :-1]\n",
    "    y_test = df.iloc[split_index:, -1]\n",
    "    return x_train, x_test, y_train, y_test\n"
   ]
  },
  {
   "cell_type": "code",
   "execution_count": 4,
   "metadata": {},
   "outputs": [],
   "source": [
    "from sklearn.feature_selection import SelectFromModel\n",
    "from mrmr import mrmr_classif\n",
    "\n",
    "def select_features(x, y, method=\"model\", estimator=None, threshold=\"median\", \n",
    "                    correlation_threshold=0.9, num_features=50):\n",
    "    \"\"\"\n",
    "    Select features using different methods.\n",
    "\n",
    "    Parameters:\n",
    "      - x: Training features (pandas DataFrame)\n",
    "      - y: Training labels (pandas Series)\n",
    "      - method: Which feature selection method to use.\n",
    "                Options are:\n",
    "                  \"model\" : Model-based feature selection using SelectFromModel.\n",
    "                  \"cbfs\"  : Correlation-based feature selection (CBFS).\n",
    "                  \"mrmr\"  : Minimum Redundancy Maximum Relevance (MRMR) using mrmr_selection.\n",
    "      - estimator: (For \"model\" method) An estimator to compute feature importances.\n",
    "                   If None, an XGBClassifier is used.\n",
    "      - threshold: (For \"model\" method) The threshold for feature importance in SelectFromModel.\n",
    "                   Default is \"median\".\n",
    "      - correlation_threshold: (For \"cbfs\" method) Threshold to drop highly correlated features.\n",
    "      - num_features: (For \"mrmr\" method) Number of features to select.\n",
    "      \n",
    "    Returns:\n",
    "      - A list of selected feature names.\n",
    "    \"\"\"\n",
    "    method = method.lower()\n",
    "    if method == \"model\":\n",
    "        if estimator is None:\n",
    "            estimator = XGBClassifier(tree_method=\"hist\", device=\"cuda\", random_state=42)\n",
    "        estimator.fit(x, y)\n",
    "        selector = SelectFromModel(estimator, threshold=threshold, prefit=True)\n",
    "        selected_features = list(x.columns[selector.get_support()])\n",
    "        return selected_features\n",
    "\n",
    "    elif method == \"cbfs\":\n",
    "        # Compute the absolute correlation matrix and remove one of any pair of highly correlated features.\n",
    "        corr_matrix = x.corr().abs()\n",
    "        # Use only the upper triangle of the correlation matrix.\n",
    "        upper = corr_matrix.where(np.triu(np.ones(corr_matrix.shape), k=1).astype(bool))\n",
    "        to_drop = [column for column in upper.columns if any(upper[column] > correlation_threshold)]\n",
    "        selected_features = [col for col in x.columns if col not in to_drop]\n",
    "        return selected_features\n",
    "\n",
    "    elif method == \"mrmr\":\n",
    "        # Call mrmr_classif directly with the DataFrame (not x.values) so that it can access the column names.\n",
    "        selected_features = mrmr_classif(x, y, K=num_features)\n",
    "        return selected_features\n",
    "\n",
    "    else:\n",
    "        raise ValueError(\"Method must be one of 'model', 'cbfs', or 'mrmr'\")"
   ]
  },
  {
   "cell_type": "code",
   "execution_count": 5,
   "metadata": {},
   "outputs": [],
   "source": [
    "# all columns in the dataset\n",
    "INFO_COLUMNS = [\n",
    "                \"type\", #\"linked\", \"fileschanged\",\n",
    "                \"ndev\", \"age\", \"exp\", \"rexp\", \"sexp\",\n",
    "                \"glm_probability\", \"classification\",\n",
    "                \"time_of_day\", \"day_of_week\", \"is_weekend\",\n",
    "                \"author_experience\", \"author_ownership\",\n",
    "                \"hash\",\"file\", \"author_date_unix_timestamp\"]\n",
    "\n",
    "Y_COLUMN = ['contains_bug']\n",
    "\n",
    "X_COLUMNS = [\"d_cbo\",\"d_cboModified\",\"d_fanin\",\n",
    "             \"d_fanout\",\"d_wmc\",\"d_dit\",\"d_noc\",\n",
    "             \"d_rfc\",\"d_lcom\",\"d_lcom*\",\"d_tcc\",\n",
    "             \"d_lcc\",\"d_totalMethodsQty\",\"d_staticMethodsQty\",\n",
    "             \"d_publicMethodsQty\",\"d_privateMethodsQty\",\"d_protectedMethodsQty\",\n",
    "             \"d_defaultMethodsQty\",\"d_visibleMethodsQty\",\"d_abstractMethodsQty\",\n",
    "             \"d_finalMethodsQty\",\"d_synchronizedMethodsQty\",\"d_totalFieldsQty\",\n",
    "             \"d_staticFieldsQty\",\"d_publicFieldsQty\",\"d_privateFieldsQty\",\n",
    "             \"d_protectedFieldsQty\",\"d_defaultFieldsQty\",\"d_finalFieldsQty\",\n",
    "             \"d_synchronizedFieldsQty\",\"d_nosi\",\"d_loc\",\"d_returnQty\",\"d_loopQty\",\n",
    "             \"d_comparisonsQty\",\"d_tryCatchQty\",\"d_parenthesizedExpsQty\",\"d_stringLiteralsQty\",\n",
    "             \"d_numbersQty\",\"d_assignmentsQty\",\"d_mathOperationsQty\",\"d_variablesQty\",\n",
    "             \"d_maxNestedBlocksQty\",\"d_anonymousClassesQty\",\"d_innerClassesQty\",\n",
    "             \"d_lambdasQty\",\n",
    "             #\"d_uniqueWordsQty\",\n",
    "             \"d_modifiers\",\n",
    "             #\"d_logStatementsQty\",\n",
    "             \"cbo\",\"cboModified\",\"fanin\",\"fanout\",\"wmc\",\"dit\",\"noc\",\"rfc\",\"lcom\",\"lcom*\",\n",
    "             \"tcc\",\"lcc\",\"totalMethodsQty\",\"staticMethodsQty\",\"publicMethodsQty\",\n",
    "             \"privateMethodsQty\",\"protectedMethodsQty\",\"defaultMethodsQty\",\n",
    "             \"visibleMethodsQty\",\"abstractMethodsQty\",\"finalMethodsQty\",\n",
    "             \"synchronizedMethodsQty\",\"totalFieldsQty\",\"staticFieldsQty\",\n",
    "             \"publicFieldsQty\",\"privateFieldsQty\",\"protectedFieldsQty\",\n",
    "             \"defaultFieldsQty\",\"finalFieldsQty\",\"synchronizedFieldsQty\",\n",
    "             \"nosi\",\"loc\",\"returnQty\",\"loopQty\",\"comparisonsQty\",\n",
    "             \"tryCatchQty\",\"parenthesizedExpsQty\",\"stringLiteralsQty\",\n",
    "             \"numbersQty\",\"assignmentsQty\",\"mathOperationsQty\",\n",
    "             \"variablesQty\",\"maxNestedBlocksQty\",\"anonymousClassesQty\",\n",
    "             \"innerClassesQty\",\"lambdasQty\",\n",
    "             #\"uniqueWordsQty\", # Number of unique words in the source code\n",
    "             \"modifiers\",\n",
    "             #\"logStatementsQty\", # Number of log statements in the source code\n",
    "             #\"fix\",\n",
    "             \"entrophy\",\n",
    "             \"la\",\"ld\",\n",
    "             #\"net_lines_changed\",\"absolute_lines_changed\",\n",
    "             \"lines_per_file\",\n",
    "             \"changed_file_count\",\n",
    "             #\"entropy_bucket\",\n",
    "             ]"
   ]
  },
  {
   "cell_type": "code",
   "execution_count": 6,
   "metadata": {},
   "outputs": [],
   "source": [
    "DATASETS = [\"merged_datasets/new/broadleaf_merged_df.csv\",\n",
    "            \"merged_datasets/new/camel_merged_df.csv\",\n",
    "            \"merged_datasets/new/dubbo_merged_df.csv\",\n",
    "            \"merged_datasets/new/elasticsearch_merged_df.csv\",\n",
    "            \"merged_datasets/new/guava_merged_df.csv\",\n",
    "            \"merged_datasets/new/jdk_merged_df.csv\",\n",
    "            \"merged_datasets/new/jgroups_merged_df.csv\",\n",
    "            \"merged_datasets/new/kafka_merged_df.csv\",\n",
    "            \"merged_datasets/new/spark_merged_df.csv\",\n",
    "            \"merged_datasets/new/spring-boot_merged_df.csv\",\n",
    "            \"merged_datasets/new/spring-framework_merged_df.csv\",\n",
    "            \"merged_datasets/new/tomcat_merged_df.csv\",\n",
    "            ]"
   ]
  },
  {
   "cell_type": "code",
   "execution_count": 8,
   "metadata": {},
   "outputs": [],
   "source": [
    "# Function to create an LSTM model\n",
    "def create_lstm_model(input_shape):\n",
    "\n",
    "        # Initialize the LSTM model\n",
    "    model = Sequential()\n",
    "\n",
    "    # Add the first LSTM layer with Dropout regularization\n",
    "    model.add(LSTM(units=50, return_sequences=True, input_shape=input_shape))\n",
    "    model.add(Dropout(0.2))\n",
    "\n",
    "    # Add the second LSTM layer with Dropout regularization\n",
    "    model.add(LSTM(units=50, return_sequences=True))\n",
    "    model.add(Dropout(0.2))\n",
    "\n",
    "    # Add the third LSTM layer with Dropout regularization\n",
    "    model.add(LSTM(units=50))\n",
    "    model.add(Dropout(0.2))\n",
    "\n",
    "    # Add the output layer\n",
    "    model.add(Dense(units=1))\n",
    "\n",
    "    # Compile the model\n",
    "    model.compile(optimizer='adam', loss='mean_squared_error', metrics=['accuracy'])\n",
    "    \"\"\"model = Sequential()\n",
    "    # First LSTM layer with 64 units and returning sequences for stacking\n",
    "    model.add(LSTM(64, input_shape=input_shape, return_sequences=True))\n",
    "    model.add(Dropout(0.2))\n",
    "    # Second LSTM layer with 32 units (last LSTM layer need not return sequences)\n",
    "    model.add(LSTM(32))\n",
    "    model.add(Dropout(0.2))\n",
    "    # Final Dense layer for binary classification\n",
    "    model.add(Dense(1, activation='sigmoid'))\n",
    "    \n",
    "    model.compile(loss='binary_crossentropy',\n",
    "                  optimizer=Adam(learning_rate=0.001),\n",
    "                  metrics=['accuracy'])\"\"\"\n",
    "    return model"
   ]
  },
  {
   "cell_type": "code",
   "execution_count": 9,
   "metadata": {},
   "outputs": [],
   "source": [
    "def create_sliding_window(X, y, window_size):\n",
    "    \"\"\"\n",
    "    Transform the data into sequences using a sliding window approach.\n",
    "    \n",
    "    Parameters:\n",
    "      X (np.array): Array of features (already scaled).\n",
    "      y (np.array): Array of target values.\n",
    "      window_size (int): Number of consecutive rows in each window.\n",
    "    \n",
    "    Returns:\n",
    "      X_seq (np.array): Array of sequences with shape (samples, window_size, features).\n",
    "      y_seq (np.array): Array of labels corresponding to each sequence.\n",
    "                         Here, the label for a window is the label of the last row.\n",
    "    \"\"\"\n",
    "    X_seq, y_seq = [], []\n",
    "    for i in range(len(X) - window_size + 1):\n",
    "        X_seq.append(X[i: i+window_size])\n",
    "        y_seq.append(y[i+window_size-1])\n",
    "    return np.array(X_seq), np.array(y_seq)"
   ]
  },
  {
   "cell_type": "code",
   "execution_count": 10,
   "metadata": {},
   "outputs": [],
   "source": [
    "# import minmaxscaler\n",
    "from sklearn.preprocessing import MinMaxScaler"
   ]
  },
  {
   "cell_type": "code",
   "execution_count": 11,
   "metadata": {},
   "outputs": [],
   "source": [
    "import pandas as pd\n",
    "import numpy as np\n",
    "from sklearn.preprocessing import StandardScaler\n",
    "import tensorflow as tf\n",
    "from tensorflow.keras.models import Sequential\n",
    "from tensorflow.keras.layers import LSTM, Dense, Dropout\n",
    "from tensorflow.keras.optimizers import Adam"
   ]
  },
  {
   "cell_type": "code",
   "execution_count": 12,
   "metadata": {},
   "outputs": [
    {
     "name": "stdout",
     "output_type": "stream",
     "text": [
      "Selected features: ['d_cbo', 'd_noc', 'd_lcom', 'd_lcom*', 'd_tcc', 'd_staticMethodsQty', 'd_privateMethodsQty', 'd_defaultMethodsQty', 'd_abstractMethodsQty', 'd_finalMethodsQty', 'd_synchronizedMethodsQty', 'd_defaultFieldsQty', 'd_synchronizedFieldsQty', 'd_nosi', 'd_anonymousClassesQty', 'd_innerClassesQty', 'd_lambdasQty', 'd_modifiers', 'cbo', 'dit', 'noc', 'staticMethodsQty', 'privateMethodsQty', 'defaultMethodsQty', 'abstractMethodsQty', 'finalMethodsQty', 'synchronizedFieldsQty', 'anonymousClassesQty', 'innerClassesQty', 'lambdasQty', 'modifiers', 'entrophy', 'la', 'lines_per_file']\n",
      "34\n"
     ]
    },
    {
     "name": "stderr",
     "output_type": "stream",
     "text": [
      "I0000 00:00:1739905799.916255   63957 gpu_device.cc:2022] Created device /job:localhost/replica:0/task:0/device:GPU:0 with 2248 MB memory:  -> device: 0, name: NVIDIA GeForce GTX 1650, pci bus id: 0000:01:00.0, compute capability: 7.5\n"
     ]
    },
    {
     "name": "stdout",
     "output_type": "stream",
     "text": [
      "Class Weights: {0: np.float64(0.79744252721932), 1: np.float64(1.3404985068448596)}\n",
      "Epoch 1/10\n"
     ]
    },
    {
     "name": "stderr",
     "output_type": "stream",
     "text": [
      "2025-02-18 22:10:02.105364: W external/local_xla/xla/tsl/framework/cpu_allocator_impl.cc:83] Allocation of 616583200 exceeds 10% of free system memory.\n",
      "2025-02-18 22:10:02.632286: W external/local_xla/xla/tsl/framework/cpu_allocator_impl.cc:83] Allocation of 616583200 exceeds 10% of free system memory.\n",
      "I0000 00:00:1739905805.823777   64236 cuda_dnn.cc:529] Loaded cuDNN version 90300\n"
     ]
    },
    {
     "name": "stdout",
     "output_type": "stream",
     "text": [
      "\u001b[1m2834/2834\u001b[0m \u001b[32m━━━━━━━━━━━━━━━━━━━━\u001b[0m\u001b[37m\u001b[0m \u001b[1m94s\u001b[0m 32ms/step - accuracy: 0.7507 - loss: 0.1881 - val_accuracy: 0.7750 - val_loss: 0.1818\n",
      "Epoch 2/10\n",
      "\u001b[1m2834/2834\u001b[0m \u001b[32m━━━━━━━━━━━━━━━━━━━━\u001b[0m\u001b[37m\u001b[0m \u001b[1m83s\u001b[0m 29ms/step - accuracy: 0.7742 - loss: 0.1774 - val_accuracy: 0.7703 - val_loss: 0.1889\n",
      "Epoch 3/10\n",
      "\u001b[1m2834/2834\u001b[0m \u001b[32m━━━━━━━━━━━━━━━━━━━━\u001b[0m\u001b[37m\u001b[0m \u001b[1m82s\u001b[0m 29ms/step - accuracy: 0.7893 - loss: 0.1684 - val_accuracy: 0.7601 - val_loss: 0.1888\n",
      "Epoch 4/10\n",
      "\u001b[1m2834/2834\u001b[0m \u001b[32m━━━━━━━━━━━━━━━━━━━━\u001b[0m\u001b[37m\u001b[0m \u001b[1m81s\u001b[0m 28ms/step - accuracy: 0.7895 - loss: 0.1670 - val_accuracy: 0.7648 - val_loss: 0.1914\n",
      "Epoch 5/10\n",
      "\u001b[1m2834/2834\u001b[0m \u001b[32m━━━━━━━━━━━━━━━━━━━━\u001b[0m\u001b[37m\u001b[0m \u001b[1m79s\u001b[0m 28ms/step - accuracy: 0.7893 - loss: 0.1654 - val_accuracy: 0.7567 - val_loss: 0.1898\n",
      "Epoch 6/10\n",
      "\u001b[1m2834/2834\u001b[0m \u001b[32m━━━━━━━━━━━━━━━━━━━━\u001b[0m\u001b[37m\u001b[0m \u001b[1m80s\u001b[0m 28ms/step - accuracy: 0.7946 - loss: 0.1577 - val_accuracy: 0.7572 - val_loss: 0.1944\n",
      "Epoch 7/10\n",
      "\u001b[1m2834/2834\u001b[0m \u001b[32m━━━━━━━━━━━━━━━━━━━━\u001b[0m\u001b[37m\u001b[0m \u001b[1m86s\u001b[0m 30ms/step - accuracy: 0.7916 - loss: 0.1608 - val_accuracy: 0.7562 - val_loss: 0.1846\n",
      "Epoch 8/10\n",
      "\u001b[1m2834/2834\u001b[0m \u001b[32m━━━━━━━━━━━━━━━━━━━━\u001b[0m\u001b[37m\u001b[0m \u001b[1m79s\u001b[0m 28ms/step - accuracy: 0.7872 - loss: 0.1647 - val_accuracy: 0.7579 - val_loss: 0.1989\n",
      "Epoch 9/10\n",
      "\u001b[1m2834/2834\u001b[0m \u001b[32m━━━━━━━━━━━━━━━━━━━━\u001b[0m\u001b[37m\u001b[0m \u001b[1m79s\u001b[0m 28ms/step - accuracy: 0.7985 - loss: 0.1569 - val_accuracy: 0.7587 - val_loss: 0.1892\n",
      "Epoch 10/10\n",
      "\u001b[1m2834/2834\u001b[0m \u001b[32m━━━━━━━━━━━━━━━━━━━━\u001b[0m\u001b[37m\u001b[0m \u001b[1m84s\u001b[0m 30ms/step - accuracy: 0.7893 - loss: 0.1593 - val_accuracy: 0.7555 - val_loss: 0.1947\n",
      "\u001b[1m708/708\u001b[0m \u001b[32m━━━━━━━━━━━━━━━━━━━━\u001b[0m\u001b[37m\u001b[0m \u001b[1m10s\u001b[0m 14ms/step - accuracy: 0.8383 - loss: 0.1517\n",
      "Test loss: 0.1947, Test accuracy: 0.7555\n"
     ]
    }
   ],
   "source": [
    "dataset_file = DATASETS[0]\n",
    "df = pd.read_csv(dataset_file)\n",
    "\n",
    "df = df.fillna(-1)\n",
    "\n",
    "# Extract features and target. Make sure these columns exist in the CSV.\n",
    "X = df[X_COLUMNS + INFO_COLUMNS]\n",
    "y = df[Y_COLUMN]\n",
    "\n",
    "# Split the dataset by date using the provided function\n",
    "x_train, x_test, y_train, y_test = train_test_split_by_date(X, y, test_size=0.2)\n",
    "\n",
    "# Perform feature selection on the training set using only X_COLUMNS\n",
    "selected_features = select_features(x_train[X_COLUMNS], y_train,\n",
    "                                            method=\"cbfs\", correlation_threshold=0.5)\n",
    "print(f\"Selected features: {selected_features}\")\n",
    "print(len(selected_features))\n",
    "\n",
    "# Scale the features (LSTM models often perform better with scaled inputs)\n",
    "scaler = MinMaxScaler()\n",
    "x_train_scaled = scaler.fit_transform(x_train[selected_features])\n",
    "x_test_scaled = scaler.transform(x_test[selected_features])\n",
    "\n",
    "# Define the sliding window size (N)\n",
    "window_size = 50  # You can adjust this value as needed\n",
    "\n",
    "# Create sliding windows for both the training and test sets.\n",
    "# The label for each window is taken as the label of the last row in that window.\n",
    "x_train_seq, y_train_seq = create_sliding_window(x_train_scaled, y_train.to_numpy(), window_size)\n",
    "x_test_seq, y_test_seq = create_sliding_window(x_test_scaled, y_test.to_numpy(), window_size)\n",
    "\n",
    "# Build the LSTM model.\n",
    "# The input shape now is (window_size, number_of_features)\n",
    "input_shape = (x_train_seq.shape[1], x_train_seq.shape[2])\n",
    "model = create_lstm_model(input_shape)\n",
    "\n",
    "# Compile the model with both loss and accuracy metrics\n",
    "\"\"\"model.compile(optimizer='adam',\n",
    "              loss='binary_crossentropy',\n",
    "              metrics=['accuracy'])\"\"\"\n",
    "\n",
    "from sklearn.utils.class_weight import compute_class_weight\n",
    "\n",
    "# Get unique classes and compute weights\n",
    "class_weights = compute_class_weight(class_weight=\"balanced\", \n",
    "                                     classes=np.unique(y_train_seq), \n",
    "                                     y=y_train_seq)\n",
    "\n",
    "# Convert to a dictionary format required by Keras\n",
    "class_weight_dict = {i: weight for i, weight in enumerate(class_weights)}\n",
    "print(\"Class Weights:\", class_weight_dict)\n",
    "\n",
    "# Convert to a dictionary format required by Keras\n",
    "class_weight_dict = {i: weight for i, weight in enumerate(class_weights)}\n",
    "\n",
    "\n",
    "# Train the model\n",
    "history = model.fit(x_train_seq, y_train_seq,\n",
    "                    epochs=10,\n",
    "                    batch_size=32,\n",
    "                    validation_data=(x_test_seq, y_test_seq),\n",
    "                    class_weight=class_weight_dict)\n",
    "\n",
    "# Evaluate the model\n",
    "test_metrics = model.evaluate(x_test_seq, y_test_seq)\n",
    "print(f'Test loss: {test_metrics[0]:.4f}, Test accuracy: {test_metrics[1]:.4f}')"
   ]
  },
  {
   "cell_type": "code",
   "execution_count": 13,
   "metadata": {},
   "outputs": [
    {
     "name": "stdout",
     "output_type": "stream",
     "text": [
      "\u001b[1m708/708\u001b[0m \u001b[32m━━━━━━━━━━━━━━━━━━━━\u001b[0m\u001b[37m\u001b[0m \u001b[1m8s\u001b[0m 10ms/step\n",
      "              precision    recall  f1-score   support\n",
      "\n",
      "       False       0.74      0.11      0.19      5949\n",
      "        True       0.76      0.99      0.86     16683\n",
      "\n",
      "    accuracy                           0.76     22632\n",
      "   macro avg       0.75      0.55      0.52     22632\n",
      "weighted avg       0.75      0.76      0.68     22632\n",
      "\n"
     ]
    }
   ],
   "source": [
    "# get classification report on the model\n",
    "from sklearn.metrics import classification_report\n",
    "import numpy as np\n",
    "\n",
    "# Make predictions and convert to classes\n",
    "y_pred_probs = model.predict(x_test_seq)\n",
    "y_pred = (y_pred_probs > 0.5).astype(int)\n",
    "\n",
    "# Print classification report\n",
    "print(classification_report(y_test_seq, y_pred))"
   ]
  },
  {
   "cell_type": "code",
   "execution_count": 14,
   "metadata": {},
   "outputs": [
    {
     "data": {
      "image/png": "[encoded data removed]",
      "text/plain": [
       "<Figure size 800x600 with 2 Axes>"
      ]
     },
     "metadata": {},
     "output_type": "display_data"
    }
   ],
   "source": [
    "# plot confusion matrix\n",
    "from sklearn.metrics import confusion_matrix\n",
    "import seaborn as sns\n",
    "import matplotlib.pyplot as plt\n",
    "\n",
    "# Create confusion matrix\n",
    "cm = confusion_matrix(y_test_seq, y_pred)\n",
    "\n",
    "# Plot confusion matrix\n",
    "plt.figure(figsize=(8, 6))\n",
    "sns.heatmap(cm, annot=True, fmt='d', cmap='Blues')\n",
    "plt.xlabel('Predicted labels')\n",
    "plt.ylabel('True labels')\n",
    "plt.title('Confusion Matrix')\n",
    "plt.show()\n"
   ]
  },
  {
   "cell_type": "code",
   "execution_count": 15,
   "metadata": {},
   "outputs": [
    {
     "data": {
      "image/png": "[encoded data removed]",
      "text/plain": [
       "<Figure size 1200x600 with 1 Axes>"
      ]
     },
     "metadata": {},
     "output_type": "display_data"
    }
   ],
   "source": [
    "# Plot training & validation loss values\n",
    "plt.figure(figsize=(12, 6))\n",
    "plt.plot(history.history['loss'], label='Train Loss')\n",
    "plt.plot(history.history['val_loss'], label='Validation Loss')\n",
    "plt.title('Model Loss')\n",
    "plt.xlabel('Epoch')\n",
    "plt.ylabel('Loss')\n",
    "plt.legend()\n",
    "plt.show()"
   ]
  }
 ],
 "metadata": {
  "kernelspec": {
   "display_name": "Python 3",
   "language": "python",
   "name": "python3"
  },
  "language_info": {
   "codemirror_mode": {
    "name": "ipython",
    "version": 3
   },
   "file_extension": ".py",
   "mimetype": "text/x-python",
   "name": "python",
   "nbconvert_exporter": "python",
   "pygments_lexer": "ipython3",
   "version": "3.10.12"
  }
 },
 "nbformat": 4,
 "nbformat_minor": 2
}
